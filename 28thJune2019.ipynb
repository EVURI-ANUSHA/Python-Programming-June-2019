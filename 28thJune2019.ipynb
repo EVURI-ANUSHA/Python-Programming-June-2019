{
 "cells": [
  {
   "cell_type": "markdown",
   "metadata": {},
   "source": [
    "### Date:28June2019\n",
    "### Day Objectives:\n",
    "\n",
    "- Maps\n",
    "- Lambda\n",
    "- Filter\n",
    "- Use Cases -File/Data Encryption\n"
   ]
  },
  {
   "cell_type": "markdown",
   "metadata": {},
   "source": [
    "### Map\n",
    "\n",
    "Mapping - Entity with Functions\n",
    "\n",
    "f:x^2 <br>\n",
    "x: [1,10]<br>\n",
    "\n",
    "f(x) -> <br>\n",
    "\n",
    "f(1) -> 1 <br>\n",
    "f(2) -> 4 <br>\n",
    "... <br>\n",
    "..  <br>\n",
    "y=f(x) <br>\n",
    "\n",
    "x     y <br>\n",
    "1     1 <br>\n",
    "2     4 <br>\n",
    "3     9 <br>\n",
    "4     16 <br>\n",
    "5 <br>\n",
    "6 <br>\n",
    "7 <br>\n",
    "8 <br>\n",
    "9  <br>\n",
    "10 <br>\n",
    "\n",
    "map(function,Iterable)"
   ]
  },
  {
   "cell_type": "code",
   "execution_count": 10,
   "metadata": {},
   "outputs": [
    {
     "data": {
      "text/plain": [
       "64"
      ]
     },
     "execution_count": 10,
     "metadata": {},
     "output_type": "execute_result"
    }
   ],
   "source": [
    "def powerN(a,n):\n",
    "    #return a**n\n",
    "    r=1\n",
    "    for i in range(0,n):\n",
    "        r=r*a\n",
    "    return r\n",
    "powerN(2,10)\n",
    "\n",
    "def recursivePowerN(a,n):\n",
    "    if n==0:\n",
    "        return 1\n",
    "    else:\n",
    "        return a*recursivePowerN(a,n-1)\n",
    "recursivePowerN(2,6)"
   ]
  },
  {
   "cell_type": "code",
   "execution_count": 20,
   "metadata": {},
   "outputs": [
    {
     "data": {
      "text/plain": [
       "{1, 8, 27, 64, 125, 216}"
      ]
     },
     "execution_count": 20,
     "metadata": {},
     "output_type": "execute_result"
    }
   ],
   "source": [
    "def cube(n):\n",
    "    return n**3\n",
    "\n",
    "li=[1,2,3,4,5,6]\n",
    "\n",
    "set(map(cube,li))\n",
    "#set(map(cube,[123]))\n",
    "\n"
   ]
  },
  {
   "cell_type": "code",
   "execution_count": 76,
   "metadata": {},
   "outputs": [
    {
     "data": {
      "text/plain": [
       "[1, 8, 27, 64, 125]"
      ]
     },
     "execution_count": 76,
     "metadata": {},
     "output_type": "execute_result"
    }
   ],
   "source": [
    "li=['1','2','3','4','5']\n",
    "\n",
    "li2=list(map(int,li)) # to convert string into a int list\n",
    "li2\n",
    "\n",
    "list(map(str,li2)) # to convert back into string  #['1','2','3','4'.'5']\n",
    "\n",
    "tuple(map(float,li2))  #(1.0,2.0,3.0,4.0,5.0)\n",
    "\n",
    "[int(i) for i in li]\n",
    "\n",
    "numbers=[int(i) for i in li]\n",
    "\n",
    "[cube(i) for i in numbers]\n",
    "\n"
   ]
  },
  {
   "cell_type": "markdown",
   "metadata": {},
   "source": [
    "### Filter \n",
    "\n",
    "Used to check boolean values\n",
    "\n",
    "Y C X  f:x--> {T,F}\n",
    "\n",
    "x       y\n",
    "1\n",
    "2       2\n",
    "3       3\n",
    "4\n",
    "5       5\n",
    "6\n",
    "7       7\n",
    "8\n",
    "9\n",
    "10\n"
   ]
  },
  {
   "cell_type": "code",
   "execution_count": 49,
   "metadata": {},
   "outputs": [
    {
     "data": {
      "text/plain": [
       "[1, 2, 3]"
      ]
     },
     "execution_count": 49,
     "metadata": {},
     "output_type": "execute_result"
    }
   ],
   "source": [
    "li=[1,2,'a','b','c',3]\n",
    "\n",
    "def isDigit(c):\n",
    "    c=str(c)\n",
    "    if c.isdigit():\n",
    "        return 1\n",
    "    return 0\n",
    "\n",
    "isDigit(2)\n",
    "\n",
    "list(filter(isDigit,li))\n",
    "\n",
    "#filter(isdigi)"
   ]
  },
  {
   "cell_type": "code",
   "execution_count": 77,
   "metadata": {},
   "outputs": [
    {
     "name": "stdout",
     "output_type": "stream",
     "text": [
      "[2, 3, 5, 7, 11, 13, 17, 19, 23, 29, 31, 37, 41, 43, 47]\n",
      "[2, 3, 5, 7, 11, 13, 17, 19, 23, 29, 31, 37, 41, 43, 47]\n"
     ]
    }
   ],
   "source": [
    "# Identify all primes in a given range\n",
    "\n",
    "def prime(n):\n",
    "    if n<2:\n",
    "        return False\n",
    "    for i in range(2,n//2+1):\n",
    "        if n%i==0:\n",
    "            return False\n",
    "    return True\n",
    "\n",
    "lb,ub=1,50\n",
    "\n",
    "PrimeList=list(filter(prime,range(lb,ub)))\n",
    "\n",
    "primeList2=[i for i in range(lb,ub+1) if prime(i)]\n",
    "\n",
    "# Map fails because it doesn't apply for checking conditions\n",
    "\n",
    "print(PrimeList)\n",
    "print(primeList2)"
   ]
  },
  {
   "cell_type": "code",
   "execution_count": null,
   "metadata": {},
   "outputs": [],
   "source": []
  },
  {
   "cell_type": "markdown",
   "metadata": {},
   "source": [
    "### Lambda\n",
    "  \n",
    "Anonymous Functions can be embedded into List Comprehensions, Maps, Filters\n",
    "\n",
    "\n",
    "\n",
    "\n",
    " "
   ]
  },
  {
   "cell_type": "code",
   "execution_count": 98,
   "metadata": {},
   "outputs": [
    {
     "name": "stdout",
     "output_type": "stream",
     "text": [
      "[1, 8, 27, 64, 125, 216, 343, 512]\n",
      "[2, 4, 6]\n"
     ]
    }
   ],
   "source": [
    "a = lambda x: x**3 \n",
    "\n",
    "print(list(map(lambda x: x**3,[1,2,3,4,5,6,7,8])))\n",
    "\n",
    "print(list(filter(lambda x: x%2==0 , [1,2,3,4,5,6])))\n"
   ]
  },
  {
   "cell_type": "code",
   "execution_count": 114,
   "metadata": {
    "scrolled": true
   },
   "outputs": [
    {
     "name": "stdout",
     "output_type": "stream",
     "text": [
      "[6, 10, 13, 7, 13, 9, 12, 15, 12, 14]\n"
     ]
    },
    {
     "data": {
      "text/plain": [
       "[6, 7, 9]"
      ]
     },
     "execution_count": 114,
     "metadata": {},
     "output_type": "execute_result"
    }
   ],
   "source": [
    "from random import randint\n",
    "\n",
    "internal1 = [randint(0,25) for i in range(10)]\n",
    "internal2 = [randint(0,25) for i in range(10)]\n",
    "internal3 = [randint(0,25) for i in range(10)]\n",
    "\n",
    "averageInternal = list(map(lambda x1,x2,x3: (x1+x2+x3)//3,internal1,internal2,internal3))\n",
    "print(averageInternal)\n",
    "\n",
    "failedmarks = list(filter(lambda x: x<10, averageInternal))\n",
    "failedmarks"
   ]
  },
  {
   "cell_type": "code",
   "execution_count": null,
   "metadata": {},
   "outputs": [],
   "source": []
  },
  {
   "cell_type": "markdown",
   "metadata": {},
   "source": [
    "### Applying Functional Programming to the Marks Analysis Application"
   ]
  },
  {
   "cell_type": "code",
   "execution_count": 1,
   "metadata": {},
   "outputs": [],
   "source": [
    "# Generate Marks Data\n",
    "from random import randint\n",
    "\n",
    "def generateMarks(n,lb,ub):\n",
    "    filename='DataFiles/marks.txt'\n",
    "    with open(filename,'w') as f:\n",
    "        for i in range(n):\n",
    "            marks=randint(lb,ub)\n",
    "            f.write(str(marks)+'\\n')\n",
    "    return \n",
    "generateMarks(100,0,100)\n",
    "        \n",
    "    "
   ]
  },
  {
   "cell_type": "code",
   "execution_count": 5,
   "metadata": {},
   "outputs": [
    {
     "data": {
      "text/plain": [
       "49"
      ]
     },
     "execution_count": 5,
     "metadata": {},
     "output_type": "execute_result"
    }
   ],
   "source": [
    "# Marks Analysis\n",
    "# Class average, % of passed, Failed and Distinction\n",
    "# Frequency of Highest & Lowest Marks\n",
    "import re\n",
    " \n",
    "def readMarksList(filepath):\n",
    "    with open(filepath,'r') as f:\n",
    "        filedata=f.read().split()\n",
    "    return list(map(int,filedata))\n",
    "filepath='DataFiles/marks.txt'\n",
    "readMarksList(filepath)    \n",
    "    \n",
    "def classAverage(filepath):\n",
    "    markslist=readMarksList(filepath)\n",
    "    return sum(markslist)//len(markslist)\n",
    "\n",
    "filepath='DataFiles/marks.txt'\n",
    "\n",
    "#readMarksList(filepath)\n",
    "classAverage(filepath)\n",
    "    "
   ]
  },
  {
   "cell_type": "code",
   "execution_count": 6,
   "metadata": {},
   "outputs": [
    {
     "data": {
      "text/plain": [
       "35.0"
      ]
     },
     "execution_count": 6,
     "metadata": {},
     "output_type": "execute_result"
    }
   ],
   "source": [
    "def percentageFailed(filepath):\n",
    "    markslist = readMarksList(filepath)\n",
    "    failedcount = len(list(filter(lambda x : x<40 , markslist )))\n",
    "    \n",
    "    return (failedcount/len(markslist)*100)\n",
    "percentageFailed(filepath)"
   ]
  },
  {
   "cell_type": "code",
   "execution_count": 8,
   "metadata": {},
   "outputs": [
    {
     "data": {
      "text/plain": [
       "65.0"
      ]
     },
     "execution_count": 8,
     "metadata": {},
     "output_type": "execute_result"
    }
   ],
   "source": [
    "def percentagePassed(filepath):\n",
    "    return 100 - percentageFailed(filepath)\n",
    "percentagePassed(filepath)\n"
   ]
  },
  {
   "cell_type": "code",
   "execution_count": 9,
   "metadata": {},
   "outputs": [
    {
     "data": {
      "text/plain": [
       "100.0"
      ]
     },
     "execution_count": 9,
     "metadata": {},
     "output_type": "execute_result"
    }
   ],
   "source": [
    "def distinction(filepath):\n",
    "    markslist=readMarksList(filepath)\n",
    "    distinctioncount = len(list(map(lambda x: x>=75, markslist)))\n",
    "    \n",
    "    return (distinctioncount/len(markslist)*100)\n",
    "distinction(filepath)"
   ]
  },
  {
   "cell_type": "code",
   "execution_count": 10,
   "metadata": {},
   "outputs": [
    {
     "data": {
      "text/plain": [
       "2"
      ]
     },
     "execution_count": 10,
     "metadata": {},
     "output_type": "execute_result"
    }
   ],
   "source": [
    "def HighestFrequency(filepath):\n",
    "    markslist=readMarksList(filepath)\n",
    "    return markslist.count(max(markslist))\n",
    "HighestFrequency(filepath)"
   ]
  },
  {
   "cell_type": "code",
   "execution_count": 11,
   "metadata": {},
   "outputs": [
    {
     "data": {
      "text/plain": [
       "3"
      ]
     },
     "execution_count": 11,
     "metadata": {},
     "output_type": "execute_result"
    }
   ],
   "source": [
    "def LowestFrequency(filepath):\n",
    "    markslist=readMarksList(filepath)\n",
    "    return markslist.count(min(markslist))\n",
    "LowestFrequency(filepath)"
   ]
  },
  {
   "cell_type": "code",
   "execution_count": null,
   "metadata": {},
   "outputs": [],
   "source": []
  },
  {
   "cell_type": "markdown",
   "metadata": {},
   "source": [
    "### 29June2019\n",
    "\n",
    "\n",
    "\n",
    "\n",
    "### Data Encryption\n",
    "\n",
    "key- Mapping of characters with replaced \n",
    "\n",
    "0 -> 4<br>\n",
    "1 -> 5<br>\n",
    "2 -> 6<br>\n",
    "3 -> 7<br>\n",
    "4 -> 8<br>\n",
    "5 -> 9<br>\n",
    "6 -> 0<br>\n",
    "7 -> 1<br>\n",
    "8 -> 2<br>\n",
    "9 -> 3<br>\n"
   ]
  },
  {
   "cell_type": "code",
   "execution_count": 11,
   "metadata": {},
   "outputs": [],
   "source": [
    "# Function to generate key for Encryption\n",
    "keypath='DataFiles/key.txt'\n",
    "\n",
    "def generateKey(keypath):\n",
    "    with open (keypath,'w') as f:\n",
    "        for i in range(10):\n",
    "            if i<6:\n",
    "                f.write(str(i)+' '+str(i+4)+'\\n')\n",
    "            else:\n",
    "                f.write(str(i)+' '+str(i-6)+'\\n')\n",
    "    return\n",
    "generateKey(keypath)\n",
    "                \n",
    "    \n",
    "    "
   ]
  },
  {
   "cell_type": "code",
   "execution_count": 12,
   "metadata": {},
   "outputs": [],
   "source": [
    "# Function to encrypt a data file\n",
    "\n",
    "keyfile='DataFiles/key.txt'\n",
    "def dictionaryKeyFile(keyfile):\n",
    "    key={}\n",
    "    with open(keyfile,'r') as f:\n",
    "        for line in f:\n",
    "            line=line.split()\n",
    "            key[line[0]]=line[1]\n",
    "    return key\n",
    "\n",
    "dictionaryKeyFile(keyfile)\n",
    "\n",
    "\n",
    "def encryptMarksData(datafile,keyfile):\n",
    "    # construct a dictionary for key data\n",
    "    key=dictionaryKeyFile(keyfile)\n",
    "    with open(datafile,'r') as f:\n",
    "        filedata=f.read().split('\\n')\n",
    "    with open('DataFiles/encryptMarks.txt','w') as f:\n",
    "        for mark in filedata:\n",
    "            line= ''\n",
    "            for n in mark:\n",
    "                line+=key[n]\n",
    "            f.write(line+'\\n')\n",
    "    return \n",
    "datafile='DataFiles/marks.txt'\n",
    "keyfile='DataFiles/key.txt'\n",
    "encryptMarksData(datafile,keyfile)\n",
    "\n"
   ]
  },
  {
   "cell_type": "code",
   "execution_count": 14,
   "metadata": {},
   "outputs": [
    {
     "name": "stdout",
     "output_type": "stream",
     "text": [
      "0.038348870999925566\n"
     ]
    }
   ],
   "source": [
    "def decryptmarksdata(encryptfile,keyfile):\n",
    "    key=dictionaryKeyFile(keyfile)\n",
    "    with open(encryptfile,'r') as f:\n",
    "        filedata=f.read().split('\\n')\n",
    "    with open('DataFiles/decryptedmarks.txt','w') as f:\n",
    "        for mark in filedata:\n",
    "            line=''\n",
    "            for n in mark:\n",
    "                for k in key:\n",
    "                    if n==key[k]:\n",
    "                        line+=k\n",
    "            f.write(line+'\\n')\n",
    "    return\n",
    "encryptfile='DataFiles/encryptMarks.txt'\n",
    "keyfile='DataFiles/key.txt'\n",
    "import timeit\n",
    "st=timeit.default_timer()\n",
    "decryptmarksdata(encryptfile,keyfile)\n",
    "print(timeit.default_timer()-st) "
   ]
  },
  {
   "cell_type": "code",
   "execution_count": 16,
   "metadata": {},
   "outputs": [],
   "source": [
    "def decryptmarksData(encryptedfile,keyfile):\n",
    "    key=dictionaryKeyFile(keyfile)\n",
    "    newkey={}\n",
    "    for key,value in key.items():\n",
    "        newkey[value]=key\n",
    "    with open(encryptedfile,'r') as f:\n",
    "        filedata=f.read().split('\\n')\n",
    "    with open('DataFiles/decryptedmarks.txt','w') as f:\n",
    "        for mark in filedata:\n",
    "            line=''\n",
    "            for n in mark:\n",
    "                line+=newkey[n]\n",
    "            f.write(line+'\\n')\n",
    "    return\n",
    "decryptmarksData(encryptedfile,keyfile)"
   ]
  },
  {
   "cell_type": "code",
   "execution_count": 18,
   "metadata": {},
   "outputs": [
    {
     "data": {
      "text/plain": [
       "{'0', '1', '2', '3', '4', '5', '6', '7', '8', '9'}"
      ]
     },
     "execution_count": 18,
     "metadata": {},
     "output_type": "execute_result"
    }
   ],
   "source": [
    "# comprehensions\n",
    "\n",
    "keyfile='DataFiles/key.txt'\n",
    "key=dictionaryKeyFile(keyfile)\n",
    "evenkeys={item for item in key}\n",
    "evenkeys"
   ]
  },
  {
   "cell_type": "markdown",
   "metadata": {},
   "source": [
    "### Hackerearth problem"
   ]
  },
  {
   "cell_type": "code",
   "execution_count": 2,
   "metadata": {},
   "outputs": [
    {
     "name": "stdout",
     "output_type": "stream",
     "text": [
      "3\n",
      "3 6 9 15\n",
      "3\n",
      "1 2 3 4 5\n",
      "1\n",
      "100 20 50 108\n",
      "8\n"
     ]
    }
   ],
   "source": [
    "def minDiff(li):\n",
    "    unique=[]\n",
    "    for i in range(len(li)-1):\n",
    "        for j in range(i+1,len(li)):\n",
    "            d=abs(int(li[i])-int(li[j]))\n",
    "            if d not in unique:\n",
    "                unique.append(d)\n",
    "    print(min(unique))\n",
    "\n",
    "T=int(input())\n",
    "for i in range(T):\n",
    "    li=[]\n",
    "    s=input().split()\n",
    "    for i in s:\n",
    "        li.append(int(i))\n",
    "    minDiff(li)\n",
    "        "
   ]
  },
  {
   "cell_type": "code",
   "execution_count": null,
   "metadata": {},
   "outputs": [],
   "source": []
  },
  {
   "cell_type": "code",
   "execution_count": null,
   "metadata": {},
   "outputs": [],
   "source": []
  }
 ],
 "metadata": {
  "kernelspec": {
   "display_name": "Python 3",
   "language": "python",
   "name": "python3"
  },
  "language_info": {
   "codemirror_mode": {
    "name": "ipython",
    "version": 3
   },
   "file_extension": ".py",
   "mimetype": "text/x-python",
   "name": "python",
   "nbconvert_exporter": "python",
   "pygments_lexer": "ipython3",
   "version": "3.7.3"
  }
 },
 "nbformat": 4,
 "nbformat_minor": 2
}
