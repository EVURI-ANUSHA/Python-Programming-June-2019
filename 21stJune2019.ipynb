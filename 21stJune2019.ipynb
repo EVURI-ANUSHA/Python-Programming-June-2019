{
 "cells": [
  {
   "cell_type": "code",
   "execution_count": 29,
   "metadata": {
    "scrolled": true
   },
   "outputs": [
    {
     "name": "stdout",
     "output_type": "stream",
     "text": [
      "True\n",
      "baby already exists\n"
     ]
    }
   ],
   "source": [
    "# Function to add contact to scontacts text file\n",
    "from Packages.validators import phonenumbervalidator as pnv,emailvalidator as ev\n",
    "\n",
    "\n",
    "def addcontact(name,phone,email):\n",
    "    #store data as name,phone,email in the contacts file\n",
    "    filename='DataFiles/contacts.txt'\n",
    "    if not checkcontactExists(name):\n",
    "        if pnv(phone) and ev(email):\n",
    "            with open(filename,'a') as f:\n",
    "                line=name+','+str(phone)+','+email+'\\n'\n",
    "                f.write(line)\n",
    "            print(name,\"added to contacts\")\n",
    "        else:\n",
    "            print('Invalid phone number or email')\n",
    "            return\n",
    "    else:\n",
    "        print(name,'already exists')\n",
    "    return\n",
    "\n",
    "\n",
    "#Function to check if contact already exists\n",
    "import re\n",
    "def checkcontactExists(name):\n",
    "    filename='DataFiles/contacts.txt'\n",
    "    with open(filename,'r') as f:\n",
    "        filedata=f.read()\n",
    "        pattern=name+','\n",
    "    return re.search(name,filedata)\n",
    "\n",
    "if checkcontactExists(\"baby\"):\n",
    "    print(True)\n",
    "else:\n",
    "    print(False)\n",
    "\n",
    "addcontact(\"baby\",9243543667,\"baby_123@gmail.com\\n\")"
   ]
  },
  {
   "cell_type": "code",
   "execution_count": 37,
   "metadata": {},
   "outputs": [
    {
     "ename": "SyntaxError",
     "evalue": "invalid syntax (<ipython-input-37-bc2650f2511f>, line 12)",
     "output_type": "error",
     "traceback": [
      "\u001b[1;36m  File \u001b[1;32m\"<ipython-input-37-bc2650f2511f>\"\u001b[1;36m, line \u001b[1;32m12\u001b[0m\n\u001b[1;33m    s+=;','.join(i)\u001b[0m\n\u001b[1;37m       ^\u001b[0m\n\u001b[1;31mSyntaxError\u001b[0m\u001b[1;31m:\u001b[0m invalid syntax\n"
     ]
    }
   ],
   "source": [
    "filename='DataFiles/contacts.txt'\n",
    "def csvTolist(filename):\n",
    "    li=[]\n",
    "    with open(filename,'r') as f:\n",
    "        for line in f:\n",
    "            li.append(line.split(','))\n",
    "\n",
    "\n",
    "def listTofile(li):\n",
    "    s=''\n",
    "    for i in li:\n",
    "        s+=;','.join(i)\n",
    "    return s\n",
    "\n",
    "li=csvTolist(filename)\n",
    "listTofile(li)"
   ]
  },
  {
   "cell_type": "code",
   "execution_count": null,
   "metadata": {},
   "outputs": [],
   "source": []
  }
 ],
 "metadata": {
  "kernelspec": {
   "display_name": "Python 3",
   "language": "python",
   "name": "python3"
  },
  "language_info": {
   "codemirror_mode": {
    "name": "ipython",
    "version": 3
   },
   "file_extension": ".py",
   "mimetype": "text/x-python",
   "name": "python",
   "nbconvert_exporter": "python",
   "pygments_lexer": "ipython3",
   "version": "3.7.3"
  }
 },
 "nbformat": 4,
 "nbformat_minor": 2
}
