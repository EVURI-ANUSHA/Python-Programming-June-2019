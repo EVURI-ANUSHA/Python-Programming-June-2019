{
 "cells": [
  {
   "cell_type": "code",
   "execution_count": null,
   "metadata": {},
   "outputs": [],
   "source": [
    "#You have been given 3 integers - l, r and k. Find how many numbers between l and r (both inclusive) are divisible by k. \n",
    "#You do not need to print these numbers, you just have to find their count.\n",
    "\n",
    "def countDivisors(l,r,k):\n",
    "    count=0\n",
    "    for i in range(l,r+1):\n",
    "        if i%k==0:\n",
    "            count=count+1\n",
    "    print (count)\n",
    "    return\n",
    "    \n",
    "s=input()\n",
    "s=s.split()\n",
    "l=int(s[0])\n",
    "r=int(s[1])\n",
    "k=int(s[2])\n",
    "\n",
    "countDivisors(l,r,k)"
   ]
  },
  {
   "cell_type": "code",
   "execution_count": null,
   "metadata": {},
   "outputs": [],
   "source": [
    "# function to print Toggle string\n",
    "\n",
    "def togglestring(s):\n",
    "    string=s.swapcase()\n",
    "    return string\n",
    "s=input()\n",
    "togglestring(s)\n",
    "\n",
    "### Anotherway\n",
    "def a(n):\n",
    "    for i in n:\n",
    "        if i==i.upper():\n",
    "            print(i)\n",
    "            a=i.lower()\n",
    "        else:\n",
    "            a=i.upper()\n",
    "        print(a,end=\"\")\n",
    "n=input()\n",
    "a(n)\n",
    "\n",
    "### Anotherway 3\n",
    "\n",
    "def string(s):\n",
    "    for i in range(0,len(s)):\n",
    "        if(ord(s[i])>=65 and ord(s[i])<=90):\n",
    "            print(chr(ord(s[i])+32),end=\"\")\n",
    "        elif(ord(s[i])>=97 and ord(s[i])<=122):\n",
    "            print(chr(ord(s[i])-32),end=\"\")\n",
    "s=input()\n",
    "string(s)"
   ]
  },
  {
   "cell_type": "code",
   "execution_count": 63,
   "metadata": {},
   "outputs": [
    {
     "name": "stdout",
     "output_type": "stream",
     "text": [
      "amma\n",
      "YES\n"
     ]
    }
   ],
   "source": [
    "# Function to check if a given string is a palindrome or not\n",
    "\n",
    "def stringpalindrome(s):\n",
    "    if s==s[::-1]:\n",
    "        print(\"YES\")\n",
    "    else:\n",
    "        print(\"NO\")\n",
    "s=input()\n",
    "stringpalindrome(s)"
   ]
  },
  {
   "cell_type": "code",
   "execution_count": null,
   "metadata": {},
   "outputs": [],
   "source": [
    "#You are given an integer N. You need to print the series of all prime numbers till N.\n",
    "def isprime(n):\n",
    "    count=0\n",
    "    for i in range(1,n+1):\n",
    "        if n%i==0:\n",
    "            count=count+1\n",
    "    if count==2:\n",
    "        return True\n",
    "    else:\n",
    "        return False\n",
    "\n",
    "def allprimes(N):\n",
    "    for i in range(1,N+1):\n",
    "        if isprime(i):\n",
    "            print(i,end=\" \")\n",
    "s=input()\n",
    "s=s.split()\n",
    "N=int(s[0])\n",
    "\n",
    "\n",
    "allprimes(N)\n"
   ]
  },
  {
   "cell_type": "code",
   "execution_count": null,
   "metadata": {},
   "outputs": [],
   "source": [
    "#You have been given a positive integer N. You need to find and print the Factorial of this number. \n",
    "#The Factorial of a positive integer N refers to the product of all number in the range from 1 to N\n",
    "\n",
    "def factorial(N):\n",
    "    m=1\n",
    "    for i in range(1,N+1):\n",
    "        m=m*i\n",
    "    print(m)\n",
    "    return\n",
    "n=input()\n",
    "n=n.split()\n",
    "N=int(n[0])\n",
    "factorial(N)\n"
   ]
  },
  {
   "cell_type": "code",
   "execution_count": 2,
   "metadata": {},
   "outputs": [
    {
     "name": "stdout",
     "output_type": "stream",
     "text": [
      "cdf\n"
     ]
    },
    {
     "data": {
      "text/plain": [
       "13"
      ]
     },
     "execution_count": 2,
     "metadata": {},
     "output_type": "execute_result"
    }
   ],
   "source": [
    "# function to print char sum of a given string\n",
    "def charsum(s):\n",
    "    sum=0\n",
    "    for i in s:\n",
    "        sum=sum+((ord(i)-96))\n",
    "    return sum\n",
    "s=input()\n",
    "charsum(s)\n",
    "    \n",
    "        \n",
    "        "
   ]
  },
  {
   "cell_type": "code",
   "execution_count": null,
   "metadata": {},
   "outputs": [
    {
     "name": "stdout",
     "output_type": "stream",
     "text": [
      "4\n",
      "sumit mitsu\n",
      "YES\n",
      "abcd sdca\n",
      "NO\n",
      "abcdrt ratcdb\n",
      "YES\n",
      "acde cdef\n"
     ]
    }
   ],
   "source": [
    "# Two strings\n",
    "\n",
    "n=int(input())\n",
    "def twostrings(s,t):\n",
    "    f=1\n",
    "    if len(s)!=len(t):\n",
    "        return 'NO'\n",
    "    else:\n",
    "        for i in range(len(s)):\n",
    "            if s.count(s[i])!=t.count(s[i]):\n",
    "                return 'NO'\n",
    "    if f==1:\n",
    "        return 'YES'\n",
    "for i in range(n):\n",
    "    st=input().split()\n",
    "    s=st[0]\n",
    "    t=st[1]\n",
    "    print(twostrings(s,t))\n",
    "twostrings(s,t)"
   ]
  },
  {
   "cell_type": "code",
   "execution_count": 6,
   "metadata": {},
   "outputs": [
    {
     "name": "stdout",
     "output_type": "stream",
     "text": [
      "2\n",
      "1 44 2 14\n",
      "2 42 8 23\n",
      "5 41\n"
     ]
    }
   ],
   "source": [
    "# Duration\n",
    "\n",
    "def duration(sh,sm,eh,em):\n",
    "        starttime=sh*60+sm\n",
    "        endtime=eh*60+em\n",
    "        work=endtime-starttime\n",
    "        workhours=work//60\n",
    "        workmin=work%60\n",
    "        print(workhours,end=\" \")\n",
    "        print(workmin,end=\"\\n\")\n",
    "\n",
    "n=int(input())\n",
    "for i in range(n):\n",
    "    s=input().split()\n",
    "    sh=int(s[0])\n",
    "    sm=int(s[1])\n",
    "    eh=int(s[2])\n",
    "    em=int(s[3])\n",
    "duration(sh,sm,eh,em)\n",
    "\n",
    "    "
   ]
  },
  {
   "cell_type": "code",
   "execution_count": null,
   "metadata": {},
   "outputs": [],
   "source": [
    "# Play with numbers\n",
    "\n",
    "def "
   ]
  }
 ],
 "metadata": {
  "kernelspec": {
   "display_name": "Python 3",
   "language": "python",
   "name": "python3"
  },
  "language_info": {
   "codemirror_mode": {
    "name": "ipython",
    "version": 3
   },
   "file_extension": ".py",
   "mimetype": "text/x-python",
   "name": "python",
   "nbconvert_exporter": "python",
   "pygments_lexer": "ipython3",
   "version": "3.7.3"
  }
 },
 "nbformat": 4,
 "nbformat_minor": 2
}
