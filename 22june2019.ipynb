{
 "cells": [
  {
   "cell_type": "markdown",
   "metadata": {},
   "source": [
    "#### Date: 22 june 2019\n",
    "#### Day Objectives\n",
    "\n",
    "- File Handling\n",
    "    - Basic file data processing\n",
    "         - Accessing and modifying file data\n",
    "    - Character count\n",
    "    - Line count\n",
    "    - File Size\n",
    "    - Word count\n",
    "    - Unique word count\n",
    "    \n",
    "    \n",
    "  \n",
    "    "
   ]
  },
  {
   "cell_type": "code",
   "execution_count": 1,
   "metadata": {},
   "outputs": [
    {
     "name": "stdout",
     "output_type": "stream",
     "text": [
      "New data\n",
      "Line2\n",
      "Line3\n"
     ]
    }
   ],
   "source": [
    "#Read a file - File should exist\n",
    "#Write to a file - Existing(append) or New(write)\n",
    "\n",
    "#Function to read entire file data into a single string- character processing\n",
    "\n",
    "def readfile(filepath):\n",
    "    with open(filepath,'r') as f:\n",
    "        #print(type(f))\n",
    "        filedata=f.read()\n",
    "    return filedata\n",
    "\n",
    "filepath='DataFiles/data.txt'\n",
    "print(readfile(filepath))\n",
    "    \n"
   ]
  },
  {
   "cell_type": "code",
   "execution_count": 2,
   "metadata": {},
   "outputs": [
    {
     "data": {
      "text/plain": [
       "['New data', 'Line2', 'Line3']"
      ]
     },
     "execution_count": 2,
     "metadata": {},
     "output_type": "execute_result"
    }
   ],
   "source": [
    "#Function to read  a file into a list of lines\n",
    "#Each element in the list is one line in the file -line processing\n",
    "\n",
    "def readFileIntoList(filepath):\n",
    "    with open(filepath,'r') as f:\n",
    "        filedata=f.read()       \n",
    "        lines=filedata.split('\\n')\n",
    "        #lines=[]\n",
    "        #for line in f:\n",
    "            #lines.append(line)\n",
    "    return lines\n",
    "filepath='DataFiles/data.txt'\n",
    "readFileIntoList(filepath)"
   ]
  },
  {
   "cell_type": "code",
   "execution_count": null,
   "metadata": {},
   "outputs": [],
   "source": []
  },
  {
   "cell_type": "code",
   "execution_count": 3,
   "metadata": {},
   "outputs": [
    {
     "data": {
      "text/plain": [
       "20"
      ]
     },
     "execution_count": 3,
     "metadata": {},
     "output_type": "execute_result"
    }
   ],
   "source": [
    "# Function to count characters in a file\n",
    "def charcount(filepath):\n",
    "    with open(filepath,'r') as f:\n",
    "        filedata=f.read()\n",
    "        count=0\n",
    "        for i in filedata:\n",
    "            if i==\" \" or i==\"\\n\":\n",
    "                count+=0\n",
    "            else:\n",
    "                count+=1\n",
    "    return count\n",
    "\n",
    "filepath='DataFiles/data.txt'\n",
    "#print(charcount(filepath))\n",
    "\n",
    "\n",
    "def charcountfile(filepath):\n",
    "    count=len(readfile(filepath))\n",
    "    return count\n",
    "charcountfile(filepath)"
   ]
  },
  {
   "cell_type": "code",
   "execution_count": 4,
   "metadata": {},
   "outputs": [
    {
     "name": "stdout",
     "output_type": "stream",
     "text": [
      "3\n"
     ]
    }
   ],
   "source": [
    "def Linecount(filepath):\n",
    "    with open(filepath,'r') as f:\n",
    "        count=0\n",
    "        for i in f:\n",
    "            if i!='\\n':\n",
    "                count+=1\n",
    "    return count\n",
    "\n",
    "filepath='DataFiles/data.txt'\n",
    "print(Linecount(filepath))"
   ]
  },
  {
   "cell_type": "code",
   "execution_count": 5,
   "metadata": {},
   "outputs": [
    {
     "data": {
      "text/plain": [
       "4"
      ]
     },
     "execution_count": 5,
     "metadata": {},
     "output_type": "execute_result"
    }
   ],
   "source": [
    "def wordcount(filepath):\n",
    "    with open(filepath,'r') as f:\n",
    "        #filedata=f.read()\n",
    "        count=0\n",
    "        for i in f:\n",
    "            if i==' ':\n",
    "                count+=1\n",
    "    return count\n",
    "\n",
    "filepath='DataFiles/data.txt'\n",
    "#print(wordcount(filepath))\n",
    "\n",
    "\n",
    "import re\n",
    "def wordcountfile(filepath):\n",
    "    pattern='[ \\n]'\n",
    "    filedata=readfile(filepath)\n",
    "    count=len(re.split(pattern,filedata))\n",
    "    return count\n",
    "wordcountfile(filepath)"
   ]
  },
  {
   "cell_type": "code",
   "execution_count": 6,
   "metadata": {},
   "outputs": [
    {
     "name": "stdout",
     "output_type": "stream",
     "text": [
      "[1, 2, 3, 4, 5]\n"
     ]
    }
   ],
   "source": [
    "#Function to print unique data in a list\n",
    "#[1,2,3,3,2,1]->[1,2,3]\n",
    "#creat a empty unique list [] ->[1] ->[1,2] ->[1,2,3]\n",
    "\n",
    "def uniqueData(li):\n",
    "    #create an empty unique list\n",
    "    unique=[]\n",
    "    #for every element in the main list,check if it exists in the unique list\n",
    "    #If it does not exist,add it to unique list\n",
    "    #else if it already exists,move on to the next element in the main list\n",
    "    \n",
    "    for element in li:\n",
    "        if element not in unique:\n",
    "            unique.append(element)\n",
    "    return unique\n",
    "li=[1,2,2,3,3,4,5]\n",
    "print(uniqueData(li))\n",
    "    \n",
    "    \n"
   ]
  },
  {
   "cell_type": "code",
   "execution_count": 7,
   "metadata": {},
   "outputs": [
    {
     "data": {
      "text/plain": [
       "['New', 'data', 'Line2', 'Line3']"
      ]
     },
     "execution_count": 7,
     "metadata": {},
     "output_type": "execute_result"
    }
   ],
   "source": [
    "#function to print unique word count in a file\n",
    "\n",
    "def countuniquewords(filepath):\n",
    "    filedata=readfile(filepath).split()\n",
    "    x=[]\n",
    "    for i in filedata:\n",
    "        if i not in x:\n",
    "            x.append(i)\n",
    "            \n",
    "    return x\n",
    "    \n",
    "\n",
    "filepath='DataFiles/data.txt'\n",
    "countuniquewords(filepath)\n",
    "        "
   ]
  },
  {
   "cell_type": "code",
   "execution_count": 8,
   "metadata": {},
   "outputs": [
    {
     "name": "stdout",
     "output_type": "stream",
     "text": [
      "New : 1 \n",
      "\n",
      "data : 1 \n",
      "\n",
      "Line2 : 1 \n",
      "\n",
      "Line3 : 1 \n",
      "\n"
     ]
    }
   ],
   "source": [
    "# Function to print frequency count of all elements in a file\n",
    "#frequency distribution\n",
    "# Data in line 1\n",
    "# Data in line 2\n",
    "# Data in line 3\n",
    "# output\n",
    "# data:3\n",
    "#in:3\n",
    "#line:3\n",
    "#1:1\n",
    "#2:1\n",
    "#3:1\n",
    "\n",
    "def frequencywordcount(filepath):\n",
    "    x=countuniquewords(filepath)\n",
    "    filedata=readfile(filepath).split()\n",
    "    for i in x:\n",
    "        count=0\n",
    "        for j in filedata:\n",
    "            if i==j:\n",
    "                count+=1\n",
    "        print(i,\":\",count,'\\n')\n",
    "    return\n",
    "        \n",
    "filepath='DataFiles/data.txt'\n",
    "frequencywordcount(filepath)    \n",
    "\n"
   ]
  },
  {
   "cell_type": "code",
   "execution_count": null,
   "metadata": {},
   "outputs": [],
   "source": []
  }
 ],
 "metadata": {
  "kernelspec": {
   "display_name": "Python 3",
   "language": "python",
   "name": "python3"
  },
  "language_info": {
   "codemirror_mode": {
    "name": "ipython",
    "version": 3
   },
   "file_extension": ".py",
   "mimetype": "text/x-python",
   "name": "python",
   "nbconvert_exporter": "python",
   "pygments_lexer": "ipython3",
   "version": "3.7.3"
  }
 },
 "nbformat": 4,
 "nbformat_minor": 2
}
