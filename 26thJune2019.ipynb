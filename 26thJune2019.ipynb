{
 "cells": [
  {
   "cell_type": "code",
   "execution_count": 5,
   "metadata": {},
   "outputs": [
    {
     "name": "stdout",
     "output_type": "stream",
     "text": [
      "-1\n"
     ]
    }
   ],
   "source": [
    "###### {a:4,g:9,i:6,p:213,c=6}\n",
    "# [4,6,6,9,213]\n",
    "# [a,c,g,i,p]\n",
    "# k=3\n",
    "# li=[]\n",
    "# for item in d.items():\n",
    "# if item[1]==6:\n",
    "#      li.append(item[0])\n",
    "# li=[i,c]\n",
    "\n",
    "def kLargestFrequency(s,k):\n",
    "    #Construct the frequency dic\n",
    "    unique=[]\n",
    "    freq={}\n",
    "    for i in s:\n",
    "        if i not in unique:\n",
    "            freq[i]=s.count(i)\n",
    "    values=sorted(freq.values(),reverse=True)\n",
    "    uniquevalues=list(set(values))\n",
    "    uniquevalues=sorted(uniquevalues,reverse=True)\n",
    "    if len(uniquevalues)>=k:\n",
    "        kvalue=uniquevalues[k-1]\n",
    "    else:\n",
    "        return -1\n",
    "    for item in freq.items():\n",
    "        if item[1]==kvalue:\n",
    "            li.append\n",
    "    return min(li)\n",
    "print(kLargestFrequency([1,2,3,4,2,1,3],4))"
   ]
  },
  {
   "cell_type": "code",
   "execution_count": 7,
   "metadata": {},
   "outputs": [
    {
     "name": "stdout",
     "output_type": "stream",
     "text": [
      "3\n"
     ]
    },
    {
     "data": {
      "text/plain": [
       "5"
      ]
     },
     "execution_count": 7,
     "metadata": {},
     "output_type": "execute_result"
    }
   ],
   "source": [
    "# Function to find second largest number\n",
    "\n",
    "def secondLargest(li):\n",
    "    #Convert the list into a unique list\n",
    "    unique=[]\n",
    "    for n in li:\n",
    "        if n not in unique:\n",
    "            unique.append(n)\n",
    "    unique=sorted(unique,reverse=True)\n",
    "    return unique[1]\n",
    "secondLargest([1,2,3,4,5,8,7,1,2,3])\n",
    "\n",
    "def fifthLeast(li):\n",
    "    unique=[]\n",
    "    for n in li:\n",
    "        if n not in unique:\n",
    "            unique.append(n)\n",
    "    unique=sorted(unique)\n",
    "    return unique[4]\n",
    "fifthLeast([1,2,3,4,5,8,7,1,2,3])\n",
    "\n",
    "def secondLargest(li):\n",
    "    unique=[]\n",
    "    for n in li:\n",
    "        if n not in unique:\n",
    "            unique.append(n)\n",
    "    unique=sorted(unique,reverse=True)\n",
    "    if len(unique)>1:\n",
    "        return unique[1]\n",
    "    return -1\n",
    "secondLargest([1,2])\n",
    "    \n",
    "def kLargest(li):\n",
    "    unique=[]\n",
    "    k=int(input())\n",
    "    for n in li:\n",
    "        if n not in unique:\n",
    "            unique.append(n)\n",
    "    unique=sorted(unique,reverse=True)\n",
    "    if len(unique)>=k:\n",
    "        return unique[k-1]\n",
    "    return -1\n",
    "kLargest([1,2,3,4,12,4,5,7,5])   "
   ]
  },
  {
   "cell_type": "code",
   "execution_count": 8,
   "metadata": {},
   "outputs": [
    {
     "name": "stdout",
     "output_type": "stream",
     "text": [
      "2\n"
     ]
    },
    {
     "data": {
      "text/plain": [
       "9"
      ]
     },
     "execution_count": 8,
     "metadata": {},
     "output_type": "execute_result"
    }
   ],
   "source": [
    "def kSmallest(li):\n",
    "    k=int(input())\n",
    "    unique=[]\n",
    "    for n in li:\n",
    "        if n not in unique:\n",
    "            unique.append(n)\n",
    "    unique=sorted(unique)\n",
    "    if len(unique)>=k:\n",
    "        return unique[k-1]\n",
    "    return -1\n",
    "kSmallest([3,3,9])"
   ]
  },
  {
   "cell_type": "code",
   "execution_count": 9,
   "metadata": {},
   "outputs": [
    {
     "name": "stdout",
     "output_type": "stream",
     "text": [
      "1\n"
     ]
    }
   ],
   "source": [
    "# Function to identify the element with highest frequency in a list\n",
    "# If many elements have the highest frequency returns the smallest\n",
    "# Highest frequency of following elements([1,2,3,9,8,7,3,4,2,1])->1\n",
    "\n",
    "def highestFrequencyElement(li):\n",
    "    unique={}\n",
    "    for i in li:\n",
    "        if i in unique:\n",
    "            unique[i]+=1\n",
    "        else:\n",
    "            unique[i]=1\n",
    "    #unique={1:2,2:2,3:2,9:1,8:1,7:,4:1}\n",
    "    \n",
    "    #Getting all frequencies into list\n",
    "    freq=unique.values()\n",
    "    maxfreq=max(freq)\n",
    "    \n",
    "    #Extract all the keys with maxfreq in a list\n",
    "    maxfreqkeys=[]\n",
    "    \n",
    "    #Identify the smallest number\n",
    "    for item in unique.items():\n",
    "        if item[1]==maxfreq:\n",
    "            maxfreqkeys.append(item[0])\n",
    "            \n",
    "    # Select the minimum from the keys with values\n",
    "\n",
    "    return min(maxfreqkeys) #minfreqE[k-1]\n",
    "        \n",
    "print(highestFrequencyElement([1,2,3,9,7,3,4,2,1]))"
   ]
  },
  {
   "cell_type": "code",
   "execution_count": 10,
   "metadata": {},
   "outputs": [
    {
     "name": "stdout",
     "output_type": "stream",
     "text": [
      "{1: 2, 2: 2, 3: 1, 4: 3}\n",
      "1\n"
     ]
    }
   ],
   "source": [
    "# Function to identify the element with second highest frequency\n",
    "# if there are many such elements, return smallest number\n",
    "# [1,2,3,2,1,4,4]-->1\n",
    "\n",
    "def secondHighest(li):\n",
    "    unique={}\n",
    "    for n in li:\n",
    "        if n in unique:\n",
    "            unique[n]+=1\n",
    "        else:\n",
    "            unique[n]=1\n",
    "    print(unique)\n",
    "    \n",
    "    freq=unique.values()\n",
    "    uniquemax=[]\n",
    "    for i in  freq:\n",
    "        if i not in uniquemax:\n",
    "            uniquemax.append(i)\n",
    "    uniquemax=sorted(uniquemax,reverse=True)\n",
    "    \n",
    "\n",
    "    secondmax=uniquemax[1]\n",
    "    \n",
    "    secondmaxkeys=[]\n",
    "    \n",
    "    for item in unique.items():\n",
    "        if item[1]==secondmax:\n",
    "            secondmaxkeys.append(item[0])\n",
    "    return min(secondmaxkeys)\n",
    "print(secondHighest([1,2,3,2,1,4,4,4]))   "
   ]
  },
  {
   "cell_type": "code",
   "execution_count": 2,
   "metadata": {},
   "outputs": [
    {
     "name": "stdout",
     "output_type": "stream",
     "text": [
      "s\n",
      "g\n",
      "h\n",
      "e\n",
      "w\n",
      "r\n",
      "n\n",
      "k\n",
      "-1\n",
      "\n",
      "\n"
     ]
    }
   ],
   "source": [
    "# Function to identify Kth highest frequency element in the list\n",
    "# If there are many such elements,return the smallest number\n",
    "#[9,8,7,6,5,2,3,4,9,6,7,7,7,6,7,6]-> k=4->2\n",
    "\n",
    "\n",
    "def kHighestfreq(li,k):\n",
    "    unique={}\n",
    "    for n in li:\n",
    "        if n in unique:\n",
    "            unique[n]+=1\n",
    "        else:\n",
    "            unique[n]=1\n",
    "    \n",
    "    freq=unique.values()\n",
    "    uniquemax=[]\n",
    "    for i in  freq:\n",
    "        if i not in uniquemax:\n",
    "            uniquemax.append(i)\n",
    "    uniquemax=sorted(uniquemax,reverse=True)\n",
    "    \n",
    "    \n",
    "    if len(uniquemax)>=k:\n",
    "        kmax=uniquemax[k-1]\n",
    "        kmaxkeys=[]\n",
    "        for item in unique.items():\n",
    "            if item[1]==kmax:\n",
    "                kmaxkeys.append(item[0])\n",
    "        return min(kmaxkeys)\n",
    "    return -1\n",
    "filename='DataFiles/largest.txt'\n",
    "with open(filename,'r') as f:\n",
    "    t=int(f.readline())\n",
    "    for i in range(t):\n",
    "        li=f.readline()\n",
    "        k=int(f.readline())\n",
    "        print(kHighestfreq(li,k))\n",
    "    "
   ]
  },
  {
   "cell_type": "code",
   "execution_count": 13,
   "metadata": {},
   "outputs": [
    {
     "name": "stdout",
     "output_type": "stream",
     "text": [
      "4\n",
      "{9: 2, 8: 1, 7: 5, 6: 4, 5: 1, 2: 1, 3: 1, 4: 1}\n",
      "[1, 2, 4, 5]\n",
      "7\n"
     ]
    }
   ],
   "source": [
    "def kLowestfreq(li):\n",
    "    k=int(input())\n",
    "    unique={}\n",
    "    for n in li:\n",
    "        if n in unique:\n",
    "            unique[n]+=1\n",
    "        else:\n",
    "            unique[n]=1\n",
    "    print(unique)\n",
    "    \n",
    "    freq=unique.values()\n",
    "    uniquelowest=[]\n",
    "    for i in  freq:\n",
    "        if i not in uniquelowest:\n",
    "            uniquelowest.append(i)\n",
    "    uniquelowest=sorted(uniquelowest)\n",
    "    print(uniquelowest)\n",
    "    \n",
    "    \n",
    "    if len(uniquelowest)>=k:\n",
    "        klowest=uniquelowest[k-1]\n",
    "        klowestkeys=[]\n",
    "        for item in unique.items():\n",
    "            if item[1]==klowest:\n",
    "                klowestkeys.append(item[0])\n",
    "        return min(klowestkeys)\n",
    "    return -1\n",
    "\n",
    "print(kLowestfreq([9,8,7,6,5,2,3,4,9,6,7,7,7,6,7,6]))  "
   ]
  },
  {
   "cell_type": "code",
   "execution_count": null,
   "metadata": {},
   "outputs": [],
   "source": [
    "# "
   ]
  }
 ],
 "metadata": {
  "kernelspec": {
   "display_name": "Python 3",
   "language": "python",
   "name": "python3"
  },
  "language_info": {
   "codemirror_mode": {
    "name": "ipython",
    "version": 3
   },
   "file_extension": ".py",
   "mimetype": "text/x-python",
   "name": "python",
   "nbconvert_exporter": "python",
   "pygments_lexer": "ipython3",
   "version": "3.7.3"
  }
 },
 "nbformat": 4,
 "nbformat_minor": 2
}
