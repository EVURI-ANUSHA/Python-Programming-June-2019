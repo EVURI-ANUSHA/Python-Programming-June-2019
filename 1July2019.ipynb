{
 "cells": [
  {
   "cell_type": "code",
   "execution_count": 7,
   "metadata": {
    "scrolled": true
   },
   "outputs": [
    {
     "data": {
      "text/html": [
       "<div>\n",
       "<style scoped>\n",
       "    .dataframe tbody tr th:only-of-type {\n",
       "        vertical-align: middle;\n",
       "    }\n",
       "\n",
       "    .dataframe tbody tr th {\n",
       "        vertical-align: top;\n",
       "    }\n",
       "\n",
       "    .dataframe thead th {\n",
       "        text-align: right;\n",
       "    }\n",
       "</style>\n",
       "<table border=\"1\" class=\"dataframe\">\n",
       "  <thead>\n",
       "    <tr style=\"text-align: right;\">\n",
       "      <th></th>\n",
       "      <th>GEOID</th>\n",
       "      <th>State</th>\n",
       "      <th>2005</th>\n",
       "      <th>2006</th>\n",
       "      <th>2007</th>\n",
       "      <th>2008</th>\n",
       "      <th>2009</th>\n",
       "      <th>2010</th>\n",
       "      <th>2011</th>\n",
       "      <th>2012</th>\n",
       "      <th>2013</th>\n",
       "    </tr>\n",
       "  </thead>\n",
       "  <tbody>\n",
       "    <tr>\n",
       "      <th>0</th>\n",
       "      <td>04000US01</td>\n",
       "      <td>Alabama</td>\n",
       "      <td>37150</td>\n",
       "      <td>37952</td>\n",
       "      <td>42212</td>\n",
       "      <td>44476</td>\n",
       "      <td>39980</td>\n",
       "      <td>40933</td>\n",
       "      <td>42590</td>\n",
       "      <td>43464</td>\n",
       "      <td>41381</td>\n",
       "    </tr>\n",
       "    <tr>\n",
       "      <th>1</th>\n",
       "      <td>04000US02</td>\n",
       "      <td>Alaska</td>\n",
       "      <td>55891</td>\n",
       "      <td>56418</td>\n",
       "      <td>62993</td>\n",
       "      <td>63989</td>\n",
       "      <td>61604</td>\n",
       "      <td>57848</td>\n",
       "      <td>57431</td>\n",
       "      <td>63648</td>\n",
       "      <td>61137</td>\n",
       "    </tr>\n",
       "    <tr>\n",
       "      <th>2</th>\n",
       "      <td>04000US04</td>\n",
       "      <td>Arizona</td>\n",
       "      <td>45245</td>\n",
       "      <td>46657</td>\n",
       "      <td>47215</td>\n",
       "      <td>46914</td>\n",
       "      <td>45739</td>\n",
       "      <td>46896</td>\n",
       "      <td>48621</td>\n",
       "      <td>47044</td>\n",
       "      <td>50602</td>\n",
       "    </tr>\n",
       "    <tr>\n",
       "      <th>3</th>\n",
       "      <td>04000US05</td>\n",
       "      <td>Arkansas</td>\n",
       "      <td>36658</td>\n",
       "      <td>37057</td>\n",
       "      <td>40795</td>\n",
       "      <td>39586</td>\n",
       "      <td>36538</td>\n",
       "      <td>38587</td>\n",
       "      <td>41302</td>\n",
       "      <td>39018</td>\n",
       "      <td>39919</td>\n",
       "    </tr>\n",
       "    <tr>\n",
       "      <th>4</th>\n",
       "      <td>04000US06</td>\n",
       "      <td>California</td>\n",
       "      <td>51755</td>\n",
       "      <td>55319</td>\n",
       "      <td>55734</td>\n",
       "      <td>57014</td>\n",
       "      <td>56134</td>\n",
       "      <td>54283</td>\n",
       "      <td>53367</td>\n",
       "      <td>57020</td>\n",
       "      <td>57528</td>\n",
       "    </tr>\n",
       "  </tbody>\n",
       "</table>\n",
       "</div>"
      ],
      "text/plain": [
       "       GEOID       State   2005   2006   2007   2008   2009   2010   2011  \\\n",
       "0  04000US01     Alabama  37150  37952  42212  44476  39980  40933  42590   \n",
       "1  04000US02      Alaska  55891  56418  62993  63989  61604  57848  57431   \n",
       "2  04000US04     Arizona  45245  46657  47215  46914  45739  46896  48621   \n",
       "3  04000US05    Arkansas  36658  37057  40795  39586  36538  38587  41302   \n",
       "4  04000US06  California  51755  55319  55734  57014  56134  54283  53367   \n",
       "\n",
       "    2012   2013  \n",
       "0  43464  41381  \n",
       "1  63648  61137  \n",
       "2  47044  50602  \n",
       "3  39018  39919  \n",
       "4  57020  57528  "
      ]
     },
     "execution_count": 7,
     "metadata": {},
     "output_type": "execute_result"
    }
   ],
   "source": [
    "# Function to read CSV data into a DataFrame and \n",
    "# returns the DataFrame object\n",
    "\n",
    "filepath = 'DataFiles/income.csv'\n",
    "import pandas as pd\n",
    "\n",
    "def readCSVdata(filepath):\n",
    "    return pd.read_csv(filepath)\n",
    "readCSVdata(filepath)"
   ]
  },
  {
   "cell_type": "code",
   "execution_count": 8,
   "metadata": {},
   "outputs": [
    {
     "name": "stdout",
     "output_type": "stream",
     "text": [
      "GEOID State 2005 2006 2007 2008 2009 2010 2011 2012 2013 "
     ]
    }
   ],
   "source": [
    "incomedf=readCSVdata(filepath)\n",
    "\n",
    "# Function to print all column names in a single line\n",
    "# GEOID State 2005 2006 2007 2008 2009 2010 2011 2012 2013\n",
    "\n",
    "def printDataFrameColumns(df):\n",
    "    columns=df.columns\n",
    "    for column in columns:\n",
    "        print(column,end=\" \")\n",
    "    return \n",
    "printDataFrameColumns(incomedf)"
   ]
  },
  {
   "cell_type": "markdown",
   "metadata": {},
   "source": [
    "- Average Income of all states from 2005 to 2013"
   ]
  },
  {
   "cell_type": "code",
   "execution_count": 17,
   "metadata": {},
   "outputs": [
    {
     "name": "stdout",
     "output_type": "stream",
     "text": [
      "48525\n"
     ]
    }
   ],
   "source": [
    "incomedf=readCSVdata(filepath)\n",
    "filepath='DataFiles/income.csv'\n",
    "\n",
    "def average(df):\n",
    "    sum=0\n",
    "    count=0\n",
    "    for i in range(len(df.values)):\n",
    "        for j in range(2,len(df.columns)):\n",
    "            sum=sum+df.values[i][j]\n",
    "            count+=1\n",
    "    print(sum//count)\n",
    "average(incomedf)\n",
    "            "
   ]
  },
  {
   "cell_type": "markdown",
   "metadata": {},
   "source": [
    "- State with highest average income in the last three years"
   ]
  },
  {
   "cell_type": "code",
   "execution_count": 40,
   "metadata": {},
   "outputs": [
    {
     "name": "stdout",
     "output_type": "stream",
     "text": [
      "{'Alabama': 42478, 'Alaska': 60738, 'Arizona': 48755, 'Arkansas': 40079, 'California': 55971}\n",
      "Alaska : 60738\n"
     ]
    }
   ],
   "source": [
    "def stateHighestAverage(df):\n",
    "    avg={}\n",
    "    for i in range(len(df.values)):\n",
    "        sum=0\n",
    "        count=0\n",
    "        for j in range(8,len(df.columns)):\n",
    "            sum=sum+df.values[i][j]\n",
    "            count=count+1\n",
    "        avg[df.values[i][1]]=sum//count\n",
    "    print(avg)\n",
    "    a=avg.values()\n",
    "    maxavg=max(a)\n",
    "    for item in avg.items():\n",
    "        if item[1]==maxavg:\n",
    "            print(item[0],':',maxavg)\n",
    "stateHighestAverage(incomedf)\n",
    "    \n",
    "    \n",
    "            \n",
    "            "
   ]
  },
  {
   "cell_type": "code",
   "execution_count": 41,
   "metadata": {},
   "outputs": [
    {
     "name": "stdout",
     "output_type": "stream",
     "text": [
      "{'Alabama': 41900, 'Alaska': 61608, 'Arizona': 46691, 'Arkansas': 38876, 'California': 55791}\n",
      "Arkansas : 38876\n"
     ]
    }
   ],
   "source": [
    "def stateHighestAverage(df):\n",
    "    avg={}\n",
    "    for i in range(len(df.values)):\n",
    "        sum=0\n",
    "        count=0\n",
    "        for j in range(4,8):\n",
    "            sum=sum+df.values[i][j]\n",
    "            count=count+1\n",
    "        avg[df.values[i][1]]=sum//count\n",
    "    print(avg)\n",
    "    a=avg.values()\n",
    "    minavg=min(a)\n",
    "    for item in avg.items():\n",
    "        if item[1]==minavg:\n",
    "            print(item[0],':',minavg)\n",
    "stateHighestAverage(incomedf)\n",
    "    "
   ]
  },
  {
   "cell_type": "code",
   "execution_count": 50,
   "metadata": {
    "scrolled": true
   },
   "outputs": [
    {
     "name": "stdout",
     "output_type": "stream",
     "text": [
      "{'Alabama': 42478, 'Alaska': 60738, 'Arizona': 48755, 'Arkansas': 40079, 'California': 55971}\n",
      "Alabama Arizona Arkansas "
     ]
    }
   ],
   "source": [
    "def stateHighestAverage(df):\n",
    "    avg={}\n",
    "    for i in range(len(df.values)):\n",
    "        sum=0\n",
    "        count=0\n",
    "        for j in range(8,len(df.columns)):\n",
    "            sum=sum+df.values[i][j]\n",
    "            count=count+1\n",
    "        avg[df.values[i][1]]=sum//count\n",
    "    print(avg)\n",
    "    calvalue=avg['California']\n",
    "    for item in avg.items():\n",
    "        if item[1]<calvalue:\n",
    "            print(item[0],end=\" \")\n",
    "stateHighestAverage(incomedf)"
   ]
  },
  {
   "cell_type": "code",
   "execution_count": 72,
   "metadata": {},
   "outputs": [
    {
     "name": "stdout",
     "output_type": "stream",
     "text": [
      "Alaska : 61604\n",
      "California : 56134\n",
      "Arizona : 45739\n",
      "Alabama : 39980\n",
      "Arkansas : 36538\n"
     ]
    }
   ],
   "source": [
    "def getColumnIndex(df,columnkey):\n",
    "    for i in range(len(df.columns)):\n",
    "        if df.columns[i]==columnkey:\n",
    "            columnindex=i\n",
    "    return columnindex\n",
    "getColumnIndex(incomedf,'2009')\n",
    "\n",
    "def descending(df,columnkey):\n",
    "    income={}\n",
    "    incomevalues=[]\n",
    "    columnindex=getColumnIndex(df,columnkey)\n",
    "    for i in range(len(df.values)):\n",
    "        income[df.values[i][1]]=df.values[i][columnindex]\n",
    "    incomevalues=sorted(income.values(),reverse=True)\n",
    "    for i in incomevalues:\n",
    "        for item in income.items():\n",
    "            if item[1]==i:\n",
    "                print(item[0],\":\",i)\n",
    "descending(incomedf,'2009')\n",
    "    \n"
   ]
  },
  {
   "cell_type": "code",
   "execution_count": 75,
   "metadata": {},
   "outputs": [
    {
     "name": "stdout",
     "output_type": "stream",
     "text": [
      "{'Alabama': 370138, 'Alaska': 540959, 'Arizona': 424933, 'Arkansas': 349460, 'California': 498154}\n",
      "Arkansas : 349460\n"
     ]
    }
   ],
   "source": [
    "def stateLowestIncome(df):\n",
    "    totalincome={}\n",
    "    for i in range(len(df.values)):\n",
    "        sum=0\n",
    "        count=0\n",
    "        for j in range(2,len(df.columns)):\n",
    "            sum=sum+df.values[i][j]\n",
    "        totalincome[df.values[i][1]]=sum\n",
    "    print(totalincome)\n",
    "    a=totalincome.values()\n",
    "    minincome=min(a)\n",
    "    for item in totalincome.items():\n",
    "        if item[1]==minincome:\n",
    "            print(item[0],':',minincome)\n",
    "stateLowestIncome(incomedf)"
   ]
  },
  {
   "cell_type": "code",
   "execution_count": null,
   "metadata": {},
   "outputs": [],
   "source": []
  }
 ],
 "metadata": {
  "kernelspec": {
   "display_name": "Python 3",
   "language": "python",
   "name": "python3"
  },
  "language_info": {
   "codemirror_mode": {
    "name": "ipython",
    "version": 3
   },
   "file_extension": ".py",
   "mimetype": "text/x-python",
   "name": "python",
   "nbconvert_exporter": "python",
   "pygments_lexer": "ipython3",
   "version": "3.7.3"
  }
 },
 "nbformat": 4,
 "nbformat_minor": 2
}
