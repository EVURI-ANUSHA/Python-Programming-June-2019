{
 "cells": [
  {
   "cell_type": "code",
   "execution_count": 2,
   "metadata": {},
   "outputs": [
    {
     "data": {
      "text/plain": [
       "True"
      ]
     },
     "execution_count": 2,
     "metadata": {},
     "output_type": "execute_result"
    }
   ],
   "source": [
    "# Function to toggle string characters\n",
    "\n",
    "s=\"a\"\n",
    "s.islower() #check the case of character\n",
    "\n",
    "s.lower() #convert a character to lowercase\n",
    "s.upper() #convert a character to uppercase"
   ]
  },
  {
   "cell_type": "code",
   "execution_count": 1,
   "metadata": {},
   "outputs": [
    {
     "name": "stdout",
     "output_type": "stream",
     "text": [
      "5 3\n",
      "1 2 3 4 5\n",
      "1 3\n",
      "2\n",
      "2 4\n",
      "3\n",
      "2 5\n",
      "3\n"
     ]
    }
   ],
   "source": [
    "### Play with Numbers\n",
    "\n",
    "#Line1: array size(n),no of queries(q)\n",
    "#Line2: n array elements\n",
    "#next q lines:query-sub array of the original \n",
    "\n",
    "#5 2\n",
    " \n",
    "#1 2 3 4 5 \n",
    "\n",
    "#1 3\n",
    "#2 4 \n",
    "#2 5\n",
    "\n",
    "n=input().split()\n",
    "n[0],n[1]=int(n[0]),int(n[1])\n",
    "# Read array elements\n",
    "a=input().split()\n",
    "sum=[] # Initialize cumulative sum array\n",
    "\n",
    "#cumulative sum\n",
    "for i in range(0,n[0]):\n",
    "    if i==0:\n",
    "        sum.append(int(a[i]))\n",
    "    else:\n",
    "        sum.append(int(sum[i-1])+int(a[i]))\n",
    "\n",
    "#Read each query  and calculate the average\n",
    "for k in range(0,n[1]):\n",
    "    inq=input().split()\n",
    "    i=int(inq[0])\n",
    "    j=int(inq[1])\n",
    "    if i>1:\n",
    "        print((sum[j-1]-sum[i-2])//(j-i+1))\n",
    "    else:\n",
    "        print(sum[j-1]//(j-i+1))"
   ]
  },
  {
   "cell_type": "code",
   "execution_count": 1,
   "metadata": {},
   "outputs": [
    {
     "name": "stdout",
     "output_type": "stream",
     "text": [
      "5\n",
      "1 2 3 4 5\n"
     ]
    }
   ],
   "source": [
    "n=int(input())\n",
    "arr=input().split()\n"
   ]
  },
  {
   "cell_type": "code",
   "execution_count": 2,
   "metadata": {},
   "outputs": [
    {
     "name": "stdout",
     "output_type": "stream",
     "text": [
      "Sd3#@\n",
      "1\n",
      "2\n"
     ]
    }
   ],
   "source": [
    "#Function to print number of digits in a string\n",
    "#Function to print number of characters in string not special characters\n",
    "def countofdigits(s):\n",
    "    digitcount=0\n",
    "    charcount=0\n",
    "    for i in s:\n",
    "        if((i>='a' and i<='z') or (i>='A' and i<='Z')):\n",
    "            charcount+=1\n",
    "        elif(i>='0' and i<='9'):\n",
    "            digitcount+=1\n",
    "    print(digitcount)\n",
    "    print(charcount)\n",
    "\n",
    "s=input()\n",
    "countofdigits(s)\n",
    "    "
   ]
  },
  {
   "cell_type": "code",
   "execution_count": 1,
   "metadata": {},
   "outputs": [
    {
     "name": "stdout",
     "output_type": "stream",
     "text": [
      "3\n",
      "6\n",
      "YES\n",
      "28\n",
      "YES\n",
      "56\n",
      "NO\n"
     ]
    }
   ],
   "source": [
    "#you have to given number N. You have to check for N numbers whether it is a perfect or not\n",
    "def factors(n):\n",
    "    s=0\n",
    "    for i in range(1,n):\n",
    "        if n%i==0:\n",
    "            s=s+i\n",
    "    if(n==s):\n",
    "        return \"YES\"\n",
    "    else:\n",
    "        return \"NO\"\n",
    "testcases=int(input())\n",
    "for i in range(testcases):\n",
    "    n=int(input())\n",
    "    print(factors(n))"
   ]
  },
  {
   "cell_type": "code",
   "execution_count": null,
   "metadata": {},
   "outputs": [
    {
     "name": "stdout",
     "output_type": "stream",
     "text": [
      "2\n",
      "5\n",
      "3\n"
     ]
    }
   ],
   "source": [
    "def highrem(n):\n",
    "    r=0\n",
    "    for i in range(1,n):\n",
    "        rem=n%i\n",
    "        if rem>r:\n",
    "            r=rem\n",
    "            j=i\n",
    "    return j\n",
    "t=int(input())\n",
    "for i in range(t):\n",
    "    n=int(input())\n",
    "    print(highrem(n))"
   ]
  },
  {
   "cell_type": "code",
   "execution_count": 5,
   "metadata": {},
   "outputs": [
    {
     "name": "stdout",
     "output_type": "stream",
     "text": [
      "2\n",
      "NO\n"
     ]
    }
   ],
   "source": [
    "def isprime(n1):\n",
    "    count=0\n",
    "    for i in range(1,n1+1):\n",
    "        if n%i==0:\n",
    "            count=count+1\n",
    "    if count==2:\n",
    "        return True\n",
    "    else:\n",
    "        return False\n",
    "\n",
    "def factor(n):\n",
    "    fc=0\n",
    "    for i in range(1,n+1):\n",
    "        if n%i==0:\n",
    "            if isprime(i):\n",
    "                fc=fc+1\n",
    "    if fc<=2:\n",
    "        print(\"YES\")\n",
    "    else:\n",
    "        print(\"NO\")\n",
    "n=int(input())\n",
    "factor(6)\n",
    "    \n",
    "                "
   ]
  },
  {
   "cell_type": "code",
   "execution_count": null,
   "metadata": {},
   "outputs": [
    {
     "name": "stdout",
     "output_type": "stream",
     "text": [
      "2\n",
      "6\n",
      "NO\n",
      "None\n"
     ]
    }
   ],
   "source": [
    "#Function to check if given numbeer is special number or not\n",
    "\n",
    "def isprime(n):\n",
    "    c=0\n",
    "    for i in range(1,n+1):\n",
    "        if n%i==0:\n",
    "            c=c+1\n",
    "    if c==2:\n",
    "        return True\n",
    "    else:\n",
    "        return False\n",
    "def factors(m):\n",
    "    fc=0\n",
    "    for i in range(1,m):\n",
    "        if m%i==0:\n",
    "            if isprime(i):\n",
    "                fc=fc+1\n",
    "    if fc>=2:\n",
    "        print(\"YES\")\n",
    "    else:\n",
    "        print(\"NO\")\n",
    "t=int(input())\n",
    "for i in range(1,t+1):\n",
    "    m=int(input())\n",
    "    print(factors(n))"
   ]
  },
  {
   "cell_type": "code",
   "execution_count": null,
   "metadata": {},
   "outputs": [],
   "source": []
  }
 ],
 "metadata": {
  "kernelspec": {
   "display_name": "Python 3",
   "language": "python",
   "name": "python3"
  },
  "language_info": {
   "codemirror_mode": {
    "name": "ipython",
    "version": 3
   },
   "file_extension": ".py",
   "mimetype": "text/x-python",
   "name": "python",
   "nbconvert_exporter": "python",
   "pygments_lexer": "ipython3",
   "version": "3.7.3"
  }
 },
 "nbformat": 4,
 "nbformat_minor": 2
}
