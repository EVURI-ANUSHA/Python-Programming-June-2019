{
 "cells": [
  {
   "cell_type": "code",
   "execution_count": null,
   "metadata": {},
   "outputs": [
    {
     "name": "stdout",
     "output_type": "stream",
     "text": [
      "180\n",
      "3\n",
      "100 150\n",
      "UPLOAD ANOTHER\n"
     ]
    }
   ],
   "source": [
    "\n",
    "def profile(L,W,H):\n",
    "    if(W<L or H<L):\n",
    "        print(\"UPLOAD ANOTHER\")\n",
    "    elif(W==H):\n",
    "        print(\"ACCEPTED\")\n",
    "    else:\n",
    "        print(\"CROP IT\")\n",
    "    return \n",
    "    \n",
    "L=int(input())\n",
    "N=int(input())\n",
    "for i in range(N):\n",
    "    s=input().split()\n",
    "    W=int(s[0])\n",
    "    H=int(s[1])\n",
    "    profile(L,W,H)\n",
    "    \n",
    "    "
   ]
  },
  {
   "cell_type": "code",
   "execution_count": 2,
   "metadata": {},
   "outputs": [
    {
     "name": "stdout",
     "output_type": "stream",
     "text": [
      "1401601499\n",
      "Legal ISBN\n"
     ]
    }
   ],
   "source": [
    "#Book of portion making\n",
    "\n",
    "def portionmaking(s):\n",
    "    sum=0\n",
    "    j=10\n",
    "    while(s!=0):\n",
    "        rem=s%10\n",
    "        sum=sum+(rem*j)\n",
    "        s=s//10\n",
    "        j=j-1\n",
    "    if(sum%11==0):\n",
    "        print(\"Legal ISBN\")\n",
    "    else:\n",
    "        print(\"Illegal ISBN\")\n",
    "    \n",
    "s=int(input())\n",
    "portionmaking(s)\n"
   ]
  },
  {
   "cell_type": "code",
   "execution_count": null,
   "metadata": {},
   "outputs": [
    {
     "name": "stdout",
     "output_type": "stream",
     "text": [
      "150\n",
      "100\n",
      "150\n",
      "YES\n"
     ]
    }
   ],
   "source": [
    "# Goki and his breakup\n",
    "def goki():\n",
    "    if(Y>=X):\n",
    "        print(\"YES\")\n",
    "    else:\n",
    "        print(\"NO\")\n",
    "    return\n",
    "\n",
    "N=int(input())\n",
    "X=int(input())\n",
    "for i in range(1,N+1):\n",
    "    Y=int(input())\n",
    "    goki()\n"
   ]
  },
  {
   "cell_type": "code",
   "execution_count": 8,
   "metadata": {},
   "outputs": [
    {
     "name": "stdout",
     "output_type": "stream",
     "text": [
      "2\n",
      "3\n",
      "A\n",
      "5\n",
      "B\n"
     ]
    }
   ],
   "source": [
    "# Lift queries\n",
    "def lift(N,A,B):\n",
    "    if(abs(A-N)<abs(B-N)):\n",
    "        print(\"A\")\n",
    "        A=N\n",
    "    else:\n",
    "        print(\"B\")\n",
    "        B=N\n",
    "    return\n",
    "\n",
    "t=int(input())\n",
    "A=0\n",
    "B=7\n",
    "for i in range(1,t+1):\n",
    "    N=int(input())\n",
    "    lift(N,A,B)"
   ]
  },
  {
   "cell_type": "code",
   "execution_count": null,
   "metadata": {},
   "outputs": [],
   "source": []
  }
 ],
 "metadata": {
  "kernelspec": {
   "display_name": "Python 3",
   "language": "python",
   "name": "python3"
  },
  "language_info": {
   "codemirror_mode": {
    "name": "ipython",
    "version": 3
   },
   "file_extension": ".py",
   "mimetype": "text/x-python",
   "name": "python",
   "nbconvert_exporter": "python",
   "pygments_lexer": "ipython3",
   "version": "3.7.3"
  }
 },
 "nbformat": 4,
 "nbformat_minor": 2
}
