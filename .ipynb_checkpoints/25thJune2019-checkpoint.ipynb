{
 "cells": [
  {
   "cell_type": "markdown",
   "metadata": {},
   "source": [
    "### Digit Frequency - Assessment problem"
   ]
  },
  {
   "cell_type": "markdown",
   "metadata": {},
   "source": [
    "Given a string,s, consisting of alphabets and digits , Find the frequency of numbers in the given string<br>\n",
    "from 0 t0 9<br>\n"
   ]
  },
  {
   "cell_type": "code",
   "execution_count": 1,
   "metadata": {},
   "outputs": [
    {
     "name": "stdout",
     "output_type": "stream",
     "text": [
      "0 4 1 1 1 1 1 0 0 0 "
     ]
    }
   ],
   "source": [
    "# S = a11472o5t6   Output: 0 2 1 0 1 1 1 1 0 0 \n",
    "\n",
    "# s= 213abc456def111\n",
    "# 0 4 1 1 1 1 1 1 0 0 0 -> Frequency of sorted numbers\n",
    "#count(1)-> 4\n",
    "\n",
    "# S=c\n",
    "# 0 0 0 0 0 0 0 0 0 0\n",
    "\n",
    "# s=1234567890\n",
    "# 1 1 1 1 1 1 1 1 1 1 \n",
    "\n",
    "def uniqueData(allnumbers):\n",
    "    unique=[]\n",
    "    for n in allnumbers:\n",
    "        if n not in unique:\n",
    "            unique.append(n)\n",
    "    return unique\n",
    "\n",
    "def digitfrequency1(s):\n",
    "    allnumbers=[]\n",
    "    for i in s:\n",
    "        if i.isdigit():\n",
    "            allnumbers.append(i)\n",
    "    unique=uniqueData(allnumbers)\n",
    "    for i in range(0,10):\n",
    "        if str(i) not in unique:\n",
    "            print(0,end=\" \")\n",
    "        else:\n",
    "            count=allnumbers.count(str(i))\n",
    "            print(count,end=\" \")\n",
    "\n",
    "digitfrequency1(\"213abc456def111\")\n",
    "    \n",
    "\n",
    "    \n",
    "    "
   ]
  },
  {
   "cell_type": "markdown",
   "metadata": {},
   "source": [
    "### Marks Analysis Application\n",
    "- Generate marks file - marks file for n students\n",
    "- Input: Marks text file- each line contain marks of one students\n",
    "- Generates a report with the following information\n",
    "   - Class Average\n",
    "   - % of students passed\n",
    "   - % of students failed\n",
    "   - % of students with distinction\n",
    "   - Highest Mark Frequency\n",
    "   - Lowest Mark Frequency\n",
    "           "
   ]
  },
  {
   "cell_type": "code",
   "execution_count": 54,
   "metadata": {},
   "outputs": [
    {
     "name": "stdout",
     "output_type": "stream",
     "text": [
      "20 Marks added successfully\n"
     ]
    }
   ],
   "source": [
    "### Marks Analysis\n",
    "\n",
    "from random import randint\n",
    "\n",
    "def generateMarks(n,lb,ub):\n",
    "    filename='DataFiles/marks.txt'\n",
    "    with open(filename,'w') as f:\n",
    "        for i in range(0,n):\n",
    "            r=randint(lb,ub)\n",
    "            f.write(str(r)+'\\n')\n",
    "    print(n,\"Marks added successfully\")\n",
    "    \n",
    "generateMarks(20,0,100)\n",
    "        "
   ]
  },
  {
   "cell_type": "code",
   "execution_count": 55,
   "metadata": {},
   "outputs": [
    {
     "name": "stdout",
     "output_type": "stream",
     "text": [
      "43.75\n"
     ]
    }
   ],
   "source": [
    "def classaverage(filepath):\n",
    "    sum=0\n",
    "    count=0\n",
    "    with open(filepath,'r') as f:\n",
    "        for i in f:\n",
    "            sum=sum+int(i)\n",
    "            count=count+1\n",
    "    print(sum/count)\n",
    "classaverage('DataFiles/marks.txt')"
   ]
  },
  {
   "cell_type": "code",
   "execution_count": 56,
   "metadata": {},
   "outputs": [
    {
     "name": "stdout",
     "output_type": "stream",
     "text": [
      "60.0\n"
     ]
    }
   ],
   "source": [
    "# Function to find passpercentage of students in a file\n",
    "\n",
    "def passpercentage(filepath):\n",
    "    count=0\n",
    "    mc=0\n",
    "    with open(filepath,'r') as f:\n",
    "        for i in f:\n",
    "            mc=mc+1\n",
    "            if int(i)>=35:\n",
    "                count=count+1\n",
    "    print((count/mc)*100)\n",
    "passpercentage('DataFiles/marks.txt')\n",
    "    "
   ]
  },
  {
   "cell_type": "code",
   "execution_count": 57,
   "metadata": {},
   "outputs": [
    {
     "name": "stdout",
     "output_type": "stream",
     "text": [
      "40.0\n"
     ]
    }
   ],
   "source": [
    "# Function to find fail percentage of students in a file\n",
    "\n",
    "def failpercentage(filepath):\n",
    "    count=0\n",
    "    mc=0\n",
    "    with open(filepath,'r') as f:\n",
    "        for i in f:\n",
    "            mc=mc+1\n",
    "            if (int(i)<35):\n",
    "                count=count+1\n",
    "    print((count/mc)*100)\n",
    "failpercentage('DataFiles/marks.txt')\n",
    "\n",
    "def failedpercentage(filepath):\n",
    "    failpercentage=100-(passpercentage(filepath))\n",
    "    print(failpercentage)\n",
    "\n",
    "    "
   ]
  },
  {
   "cell_type": "code",
   "execution_count": 48,
   "metadata": {},
   "outputs": [
    {
     "name": "stdout",
     "output_type": "stream",
     "text": [
      "25.0\n"
     ]
    }
   ],
   "source": [
    "# Function to find disti\n",
    "\n",
    "def distinction(filepath):\n",
    "    count=0\n",
    "    mc=0\n",
    "    with open(filepath,'r') as f:\n",
    "        for i in f:\n",
    "            mc=mc+1\n",
    "            if int(i)>=75:\n",
    "                count=count+1\n",
    "    print((count/mc)*100)\n",
    "distinction('DataFiles/marks.txt')"
   ]
  },
  {
   "cell_type": "code",
   "execution_count": 58,
   "metadata": {},
   "outputs": [
    {
     "name": "stdout",
     "output_type": "stream",
     "text": [
      "91\n",
      "1\n"
     ]
    }
   ],
   "source": [
    "# Function find frequency of highest marks\n",
    "\n",
    "def frequencyHighest(filepath):\n",
    "    with open(filepath,'r') as f:\n",
    "        sp=f.read().split()\n",
    "        sp=list(map(int,sp))\n",
    "        print(max(sp))\n",
    "        print(sp.count(max(sp)))\n",
    "frequencyHighest('DataFiles/marks.txt')"
   ]
  },
  {
   "cell_type": "code",
   "execution_count": 59,
   "metadata": {},
   "outputs": [
    {
     "name": "stdout",
     "output_type": "stream",
     "text": [
      "1\n",
      "1\n"
     ]
    }
   ],
   "source": [
    "# Function to find frequency of lowest marks\n",
    "\n",
    "def frequencyLowest(filepath):\n",
    "    with open(filepath,'r') as f:\n",
    "        sp=f.read().split()\n",
    "        sp=list(map(int,sp))\n",
    "        print(min(sp))\n",
    "        print(sp.count(min(sp)))\n",
    "frequencyLowest('DataFiles/marks.txt')"
   ]
  },
  {
   "cell_type": "code",
   "execution_count": 61,
   "metadata": {},
   "outputs": [
    {
     "name": "stdout",
     "output_type": "stream",
     "text": [
      "Choose ur option:\n",
      "1).Generation of marks\n",
      "2).Class Average\n",
      "3).Pass percentage\n",
      "4).Failed percentage\n",
      "5).Distinction\n",
      "6).Frequency of Highest\n",
      "7).Frequency of Lowest\n",
      "1\n",
      "30\n",
      "30 Marks added successfully\n",
      "Choose ur option:\n",
      "1).Generation of marks\n",
      "2).Class Average\n",
      "3).Pass percentage\n",
      "4).Failed percentage\n",
      "5).Distinction\n",
      "6).Frequency of Highest\n",
      "7).Frequency of Lowest\n",
      "2\n",
      "51.93333333333333\n",
      "Choose ur option:\n",
      "1).Generation of marks\n",
      "2).Class Average\n",
      "3).Pass percentage\n",
      "4).Failed percentage\n",
      "5).Distinction\n",
      "6).Frequency of Highest\n",
      "7).Frequency of Lowest\n",
      "3\n",
      "63.33333333333333\n",
      "Choose ur option:\n",
      "1).Generation of marks\n",
      "2).Class Average\n",
      "3).Pass percentage\n",
      "4).Failed percentage\n",
      "5).Distinction\n",
      "6).Frequency of Highest\n",
      "7).Frequency of Lowest\n",
      "4\n",
      "36.666666666666664\n",
      "Choose ur option:\n",
      "1).Generation of marks\n",
      "2).Class Average\n",
      "3).Pass percentage\n",
      "4).Failed percentage\n",
      "5).Distinction\n",
      "6).Frequency of Highest\n",
      "7).Frequency of Lowest\n",
      "5\n",
      "33.33333333333333\n",
      "Choose ur option:\n",
      "1).Generation of marks\n",
      "2).Class Average\n",
      "3).Pass percentage\n",
      "4).Failed percentage\n",
      "5).Distinction\n",
      "6).Frequency of Highest\n",
      "7).Frequency of Lowest\n",
      "6\n",
      "98\n",
      "1\n",
      "Choose ur option:\n",
      "1).Generation of marks\n",
      "2).Class Average\n",
      "3).Pass percentage\n",
      "4).Failed percentage\n",
      "5).Distinction\n",
      "6).Frequency of Highest\n",
      "7).Frequency of Lowest\n",
      "7\n",
      "5\n",
      "1\n",
      "Choose ur option:\n",
      "1).Generation of marks\n",
      "2).Class Average\n",
      "3).Pass percentage\n",
      "4).Failed percentage\n",
      "5).Distinction\n",
      "6).Frequency of Highest\n",
      "7).Frequency of Lowest\n",
      "8\n"
     ]
    }
   ],
   "source": [
    "def marksanalysis(filepath):\n",
    "    while True:\n",
    "        n=int(input(\"Choose ur option:\\n1).Generation of marks\\n2).Class Average\\n3).Pass percentage\\n4).Failed percentage\\n5).Distinction\\n6).Frequency of Highest\\n7).Frequency of Lowest\\n\"))\n",
    "        if(n==1):\n",
    "            st=int(input())\n",
    "            generateMarks(st,0,100)\n",
    "        elif(n==2):\n",
    "            classaverage(filepath)\n",
    "        elif(n==3):\n",
    "            passpercentage(filepath)\n",
    "        elif(n==4):\n",
    "            failpercentage(filepath)\n",
    "        elif(n==5):\n",
    "            distinction(filepath)\n",
    "        elif(n==6):\n",
    "            frequencyHighest(filepath)\n",
    "        elif(n==7):\n",
    "            frequencyLowest(filepath)\n",
    "        else:\n",
    "            break\n",
    "marksanalysis('DataFiles/marks.txt')"
   ]
  },
  {
   "cell_type": "markdown",
   "metadata": {},
   "source": [
    "### Contacts Application"
   ]
  },
  {
   "cell_type": "code",
   "execution_count": 3,
   "metadata": {},
   "outputs": [
    {
     "data": {
      "text/plain": [
       "True"
      ]
     },
     "execution_count": 3,
     "metadata": {},
     "output_type": "execute_result"
    }
   ],
   "source": [
    "import re\n",
    "\n",
    "def phonenumbervalidator(number):\n",
    "    pattern='^[6-9][0-9]{9}$|^[0][6-9][0-9]{9}$|^[+][9][1][6-9][0-9]{9}$'\n",
    "    if re.match(pattern,str(number)):\n",
    "        return True\n",
    "    return False\n",
    "def emailvalidator(email):\n",
    "    pattern='^[0-9a-z][0-9a-z_.]{4,13}[0-9a-z][@][0-9a-z]{3,18}[.][a-z]{2,4}|[.][a-z]{2,4}$'\n",
    "    if re.match(pattern,email):\n",
    "        return True\n",
    "    return False\n",
    "emailvalidator(\"reddyh580@gmail.com\")"
   ]
  },
  {
   "cell_type": "code",
   "execution_count": 5,
   "metadata": {},
   "outputs": [
    {
     "data": {
      "text/plain": [
       "<re.Match object; span=(0, 4), match='anu,'>"
      ]
     },
     "execution_count": 5,
     "metadata": {},
     "output_type": "execute_result"
    }
   ],
   "source": [
    "def contact_exists(name):\n",
    "    filename='DataFiles/contacts.txt'\n",
    "    with open(filename,'r') as f:\n",
    "        p=name+','\n",
    "        fd=f.read()\n",
    "    return re.search(p,fd)\n",
    "contact_exists('anu')"
   ]
  },
  {
   "cell_type": "code",
   "execution_count": 9,
   "metadata": {},
   "outputs": [
    {
     "name": "stdout",
     "output_type": "stream",
     "text": [
      "baby is added to contact list\n"
     ]
    }
   ],
   "source": [
    "def addcontact(name,phone,email):\n",
    "    filename='DataFiles/contacts.txt'\n",
    "    if not contact_exists(name):\n",
    "        if emailvalidator(email) and phonenumbervalidator(phone):\n",
    "            with open(filename,'a') as f:\n",
    "                line=name+','+str(phone)+','+email+'\\n'\n",
    "                f.write(line)\n",
    "            print(name,\"is added to contact list\")\n",
    "        else:\n",
    "            print('invalid phone or email')\n",
    "    else:\n",
    "        print(name,'already exists')\n",
    "    return\n",
    "addcontact('baby',9705079252,'baby_123@gmail.com')"
   ]
  },
  {
   "cell_type": "code",
   "execution_count": 20,
   "metadata": {},
   "outputs": [
    {
     "name": "stdout",
     "output_type": "stream",
     "text": [
      "baby 9705079252 baby_123@gmail.com\n",
      "\n"
     ]
    }
   ],
   "source": [
    "def searchcontact(name):\n",
    "    filepath='DataFiles/contacts.txt'\n",
    "    if contact_exists(name):\n",
    "        with open(filepath,'r') as f:\n",
    "            for i in f:\n",
    "                i=i.split(',')\n",
    "                if i[0]==name:\n",
    "                    print(i[0],i[1],i[2])\n",
    "    else:\n",
    "        print(\"contact does not exists\")\n",
    "searchcontact('baby')\n",
    "    "
   ]
  },
  {
   "cell_type": "code",
   "execution_count": 23,
   "metadata": {},
   "outputs": [
    {
     "name": "stdout",
     "output_type": "stream",
     "text": [
      "['anu,9866296799,anu.13284@gmail.com', 'baby,9705079252,baby_123@gmail.com']\n"
     ]
    }
   ],
   "source": [
    "def listallcontacts():\n",
    "    filename='DataFiles/contacts.txt'\n",
    "    with open(filename,'r') as f:\n",
    "        x=f.read().split()\n",
    "        if len(x)!=0:\n",
    "            print(x)\n",
    "        else:\n",
    "            print('Empty list of contacts')\n",
    "    return \n",
    "listallcontacts()"
   ]
  },
  {
   "cell_type": "code",
   "execution_count": 71,
   "metadata": {},
   "outputs": [
    {
     "data": {
      "text/plain": [
       "0"
      ]
     },
     "execution_count": 71,
     "metadata": {},
     "output_type": "execute_result"
    }
   ],
   "source": [
    "# Function to check if two strings are anagrams\n",
    "# abc cba -> True\n",
    "# {a:1,b:1,c:1} {c:1,b:1,a:1}\n",
    "# abc abc\n",
    "# aabbcc ccbbaaa -> False\n",
    "# aabbcc aaabbcc\n",
    "# {a:2,b:2,c:2} {a:3,b:2,c:2}\n",
    "\n",
    "def checkAnagrams(s1,s2):\n",
    "    if len(s1)!=len(s2):\n",
    "        return False\n",
    "    if sorted(s1)==sorted(s2):\n",
    "        return True\n",
    "    return False\n",
    "checkAnagrams('abc','bcc')\n",
    "\n",
    "def charDeletionsAnagrams(s1,s2):\n",
    "    uncommon=[]\n",
    "    for i in s1:\n",
    "        if i not in s2:\n",
    "            uncommon.append(i)\n",
    "    for i in s2:\n",
    "        if i not in s1:\n",
    "            uncommon.append(i)\n",
    "    count=len(uncommon)\n",
    "    freqs1={}\n",
    "    freqs2={}\n",
    "    uniqs1=[]\n",
    "    uniqs2=[]\n",
    "    \n",
    "    for i in s1:\n",
    "        if i not in uncommon and i not in uniqs1:\n",
    "            freqs1[i]=s1.count(i)\n",
    "            uniqs1.append(i)\n",
    "    for i in s2:\n",
    "        if i not in uncommon and i not in uniqs2:\n",
    "            freqs2[i]=s2.count(i)\n",
    "            uniqs2.append(i)\n",
    "    for key in freqs1.keys():\n",
    "        count=count+abs(freqs1[key]-freqs2[key])\n",
    "    return count\n",
    "charDeletionsAnagrams('aaabcc','abbcddd')\n",
    "        \n",
    "            \n",
    "            \n",
    "            \n",
    "    \n",
    "    "
   ]
  },
  {
   "cell_type": "code",
   "execution_count": 73,
   "metadata": {},
   "outputs": [
    {
     "data": {
      "text/plain": [
       "62228"
      ]
     },
     "execution_count": 73,
     "metadata": {},
     "output_type": "execute_result"
    }
   ],
   "source": [
    "def averageRange(lb,ub):\n",
    "    sum=0\n",
    "    for i in range(lb,ub+1):\n",
    "        sum=sum+i\n",
    "        count=ub-lb+1\n",
    "    return sum//count\n",
    "averageRange(1000,123456)"
   ]
  },
  {
   "cell_type": "code",
   "execution_count": null,
   "metadata": {},
   "outputs": [],
   "source": [
    "###### {a:4,g:9,i:6,p:213,c=6}\n",
    "# [4,6,6,9,213]\n",
    "# [a,c,g,i,p]\n",
    "# k=3\n",
    "# li=[]\n",
    "# for item in d.items():\n",
    "# if item[1]==6:\n",
    "#      li.append(item[0])\n",
    "# li=[i,c]\n",
    "\n",
    "def kLargestFrequency(s,k):\n",
    "    #Construct the frequency dic\n",
    "    unique=[]\n",
    "    freq={}\n",
    "    for i in s:\n",
    "        if i not in unique:\n",
    "            freq[i]=s.count(i)\n",
    "    values=sorted(freq.values(),reversed=True)\n",
    "    uniquevalues=list(set(values))\n",
    "    uniquevalues=sorted(uniqueValues,reversed=True)\n",
    "    if k<=len(uniquevalues):\n",
    "        kvalue=uniqueValues[k-1]\n",
    "    else:\n",
    "        return -1\n",
    "    for item in freq.items():\n",
    "        if item[1]==kvalue:\n",
    "            li.append\n",
    "    return min(li)\n",
    "with open('../input.txt') as f:\n",
    "    t=int(f.readline())\n",
    "    for i in range(t):\n",
    "        s=f.readline()\n",
    "        k=int(f.readline())\n",
    "        print(KLargestFrequency(s,k))"
   ]
  },
  {
   "cell_type": "code",
   "execution_count": 10,
   "metadata": {},
   "outputs": [
    {
     "name": "stdout",
     "output_type": "stream",
     "text": [
      "3\n"
     ]
    },
    {
     "data": {
      "text/plain": [
       "5"
      ]
     },
     "execution_count": 10,
     "metadata": {},
     "output_type": "execute_result"
    }
   ],
   "source": [
    "# Function to find second largest number\n",
    "\n",
    "def secondLargest(li):\n",
    "    #Convert the list into a unique list\n",
    "    unique=[]\n",
    "    for n in li:\n",
    "        if n not in unique:\n",
    "            unique.append(n)\n",
    "    unique=sorted(unique,reverse=True)\n",
    "    return unique[1]\n",
    "secondLargest([1,2,3,4,5,8,7,1,2,3])\n",
    "\n",
    "def fifthLeast(li):\n",
    "    unique=[]\n",
    "    for n in li:\n",
    "        if n not in unique:\n",
    "            unique.append(n)\n",
    "    unique=sorted(unique,recersed=True)\n",
    "    return unique[4]\n",
    "fifthLeast([1,2,3,4,5,8,7,1,2,3])\n",
    "\n",
    "def secondLargest(li):\n",
    "    unique=[]\n",
    "    for n in li:\n",
    "        if n not in unique:\n",
    "            unique.append(n)\n",
    "    unique=sorted(unique,reverse=True)\n",
    "    if len(unique)>=1:\n",
    "        return unique[1]\n",
    "    return -1\n",
    "secondLargest([1,2])\n",
    "    \n",
    "def kLargest(li):\n",
    "    unique=[]\n",
    "    k=int(input())\n",
    "    for n in li:\n",
    "        if n not in unique:\n",
    "            unique.append(n)\n",
    "    unique=sorted(unique,reverse=True)\n",
    "    if len(unique)>=k:\n",
    "        return unique[k-1]\n",
    "    return -1\n",
    "kLargest([1,2,3,4,12,4,5,7,5])   \n",
    "    "
   ]
  },
  {
   "cell_type": "code",
   "execution_count": 19,
   "metadata": {},
   "outputs": [
    {
     "name": "stdout",
     "output_type": "stream",
     "text": [
      "2\n"
     ]
    },
    {
     "data": {
      "text/plain": [
       "9"
      ]
     },
     "execution_count": 19,
     "metadata": {},
     "output_type": "execute_result"
    }
   ],
   "source": [
    "def kSmallest(li):\n",
    "    k=int(input())\n",
    "    unique=[]\n",
    "    for n in li:\n",
    "        if n not in unique:\n",
    "            unique.append(n)\n",
    "    unique=sorted(unique)\n",
    "    if len(unique)>=k:\n",
    "        return unique[k-1]\n",
    "    return -1\n",
    "kSmallest([3,3,9])"
   ]
  },
  {
   "cell_type": "code",
   "execution_count": 42,
   "metadata": {},
   "outputs": [
    {
     "name": "stdout",
     "output_type": "stream",
     "text": [
      "1\n"
     ]
    }
   ],
   "source": [
    "# Function to identify the element with highest frequency in a list\n",
    "# If many elements have the highest frequency returns the smallest\n",
    "# Highest frequency of following elements([1,2,3,9,8,7,3,4,2,1])->1\n",
    "\n",
    "def highestFrequencyElement(li):\n",
    "    unique={}\n",
    "    for i in li:\n",
    "        if i in unique:\n",
    "            unique[i]+=1\n",
    "        else:\n",
    "            unique[i]=1\n",
    "    #unique={1:2,2:2,3:2,9:1,8:1,7:,4:1}\n",
    "    \n",
    "    #Getting all frequencies into list\n",
    "    freq=unique.values()\n",
    "    maxfreq=max(freq)\n",
    "    \n",
    "    #Extract all the keys with maxfreq in a list\n",
    "    maxfreqkeys=[]\n",
    "    \n",
    "    #Identify the smallest number\n",
    "    for item in unique.items():\n",
    "        if item[1]==maxfreq:\n",
    "            maxfreqkeys.append(item[0])\n",
    "            \n",
    "    # Select the minimum from the keys with values\n",
    "\n",
    "    return min(maxfreqkeys) #minfreqE[k-1]\n",
    "        \n",
    "print(highestFrequencyElement([1,2,3,9,7,3,4,2,1]))"
   ]
  },
  {
   "cell_type": "code",
   "execution_count": 77,
   "metadata": {},
   "outputs": [
    {
     "name": "stdout",
     "output_type": "stream",
     "text": [
      "{1: 2, 2: 2, 3: 1, 4: 3}\n",
      "1\n"
     ]
    }
   ],
   "source": [
    "# Function to identify the element with second highest frequency\n",
    "# if there are many such elements, return smallest number\n",
    "# [1,2,3,2,1,4,4]-->\n",
    "\n",
    "def secondHighest(li):\n",
    "    unique={}\n",
    "    for n in li:\n",
    "        if n in unique:\n",
    "            unique[n]+=1\n",
    "        else:\n",
    "            unique[n]=1\n",
    "    print(unique)\n",
    "    \n",
    "    freq=unique.values()\n",
    "    uniquemax=[]\n",
    "    for i in  freq:\n",
    "        if i not in uniquemax:\n",
    "            uniquemax.append(i)\n",
    "    uniquemax=sorted(uniquemax,reverse=True)\n",
    "    \n",
    "\n",
    "    secondmax=uniquemax[1]\n",
    "    \n",
    "    secondmaxkeys=[]\n",
    "    \n",
    "    for item in unique.items():\n",
    "        if item[1]==secondmax:\n",
    "            secondmaxkeys.append(item[0])\n",
    "    return min(secondmaxkeys)\n",
    "print(secondHighest([1,2,3,2,1,4,4,4]))   \n",
    "    \n",
    "            "
   ]
  },
  {
   "cell_type": "code",
   "execution_count": 85,
   "metadata": {},
   "outputs": [
    {
     "ename": "ValueError",
     "evalue": "invalid literal for int() with base 10: ''",
     "output_type": "error",
     "traceback": [
      "\u001b[1;31m---------------------------------------------------------------------------\u001b[0m",
      "\u001b[1;31mValueError\u001b[0m                                Traceback (most recent call last)",
      "\u001b[1;32m<ipython-input-85-2e0e2a7b25f5>\u001b[0m in \u001b[0;36m<module>\u001b[1;34m\u001b[0m\n\u001b[0;32m     32\u001b[0m     \u001b[1;32mreturn\u001b[0m \u001b[1;33m-\u001b[0m\u001b[1;36m1\u001b[0m\u001b[1;33m\u001b[0m\u001b[1;33m\u001b[0m\u001b[0m\n\u001b[0;32m     33\u001b[0m \u001b[1;32mwith\u001b[0m \u001b[0mopen\u001b[0m\u001b[1;33m(\u001b[0m\u001b[1;34m'DataFiles/kth_largest.txt'\u001b[0m\u001b[1;33m)\u001b[0m \u001b[1;32mas\u001b[0m \u001b[0mf\u001b[0m\u001b[1;33m:\u001b[0m\u001b[1;33m\u001b[0m\u001b[1;33m\u001b[0m\u001b[0m\n\u001b[1;32m---> 34\u001b[1;33m     \u001b[0mt\u001b[0m\u001b[1;33m=\u001b[0m\u001b[0mint\u001b[0m\u001b[1;33m(\u001b[0m\u001b[0mf\u001b[0m\u001b[1;33m.\u001b[0m\u001b[0mreadline\u001b[0m\u001b[1;33m(\u001b[0m\u001b[1;33m)\u001b[0m\u001b[1;33m)\u001b[0m\u001b[1;33m\u001b[0m\u001b[1;33m\u001b[0m\u001b[0m\n\u001b[0m\u001b[0;32m     35\u001b[0m     \u001b[0mprint\u001b[0m\u001b[1;33m(\u001b[0m\u001b[0mt\u001b[0m\u001b[1;33m)\u001b[0m\u001b[1;33m\u001b[0m\u001b[1;33m\u001b[0m\u001b[0m\n\u001b[0;32m     36\u001b[0m     \u001b[1;31m#for i in range(t):\u001b[0m\u001b[1;33m\u001b[0m\u001b[1;33m\u001b[0m\u001b[1;33m\u001b[0m\u001b[0m\n",
      "\u001b[1;31mValueError\u001b[0m: invalid literal for int() with base 10: ''"
     ]
    }
   ],
   "source": [
    "# Function to identify Kth highest frequency element in the list\n",
    "# If there are many such elements,return the smallest number\n",
    "#[9,8,7,6,5,2,3,4,9,6,7,7,7,6,7,6]-> k=4->2\n",
    "\n",
    "\n",
    "def kHighestfreq(s,k):\n",
    "    k=int(input())\n",
    "    unique={}\n",
    "    for n in s:\n",
    "        if n in unique:\n",
    "            unique[n]+=1\n",
    "        else:\n",
    "            unique[n]=1\n",
    "    print(unique)\n",
    "    \n",
    "    freq=unique.values()\n",
    "    uniquemax=[]\n",
    "    for i in  freq:\n",
    "        if i not in uniquemax:\n",
    "            uniquemax.append(i)\n",
    "    uniquemax=sorted(uniquemax,reverse=True)\n",
    "    print(uniquemax)\n",
    "    \n",
    "    \n",
    "    if len(uniquemax)>=k:\n",
    "        kmax=uniquemax[k-1]\n",
    "        kmaxkeys=[]\n",
    "        for item in unique.items():\n",
    "            if item[1]==kmax:\n",
    "                kmaxkeys.append(item[0])\n",
    "        return min(kmaxkeys)\n",
    "    return -1\n",
    "with open() as f:\n",
    "    t=int(f.readline())\n",
    "    print(t)\n",
    "    #for i in range(t):\n",
    "        #s=f.readline()\n",
    "        #print(kHighestfreq(s,k))  \n",
    "    \n",
    "#print(kHighestfreq([9,8,7,6,5,2,3,4,9,6,7,7,7,6,7,6]))   "
   ]
  },
  {
   "cell_type": "code",
   "execution_count": null,
   "metadata": {},
   "outputs": [],
   "source": [
    "def kLowestfreq(li):\n",
    "    k=int(input())\n",
    "    unique={}\n",
    "    for n in li:\n",
    "        if n in unique:\n",
    "            unique[n]+=1\n",
    "        else:\n",
    "            unique[n]=1\n",
    "    print(unique)\n",
    "    \n",
    "    freq=unique.values()\n",
    "    uniquelowest=[]\n",
    "    for i in  freq:\n",
    "        if i not in uniquelowest:\n",
    "            uniquelowest.append(i)\n",
    "    uniquelowest=sorted(uniquelowest)\n",
    "    print(uniquelowest)\n",
    "    \n",
    "    \n",
    "    if len(uniquelowest)>=k:\n",
    "        klowest=uniquelowest[k-1]\n",
    "        klowestkeys=[]\n",
    "        for item in unique.items():\n",
    "            if item[1]==klowest:\n",
    "                klowestkeys.append(item[0])\n",
    "        return min(klowestkeys)\n",
    "    return -1\n",
    "with open('DataFiles/kth_largest.txt') as f:\n",
    "    t=int(f.readline())\n",
    "    for i in range(t):\n",
    "        s=f.readline()\n",
    "        print(kLowestfreq([9,8,7,6,5,2,3,4,9,6,7,7,7,6,7,6]))  "
   ]
  },
  {
   "cell_type": "code",
   "execution_count": null,
   "metadata": {},
   "outputs": [],
   "source": []
  }
 ],
 "metadata": {
  "kernelspec": {
   "display_name": "Python 3",
   "language": "python",
   "name": "python3"
  },
  "language_info": {
   "codemirror_mode": {
    "name": "ipython",
    "version": 3
   },
   "file_extension": ".py",
   "mimetype": "text/x-python",
   "name": "python",
   "nbconvert_exporter": "python",
   "pygments_lexer": "ipython3",
   "version": "3.7.3"
  }
 },
 "nbformat": 4,
 "nbformat_minor": 2
}
